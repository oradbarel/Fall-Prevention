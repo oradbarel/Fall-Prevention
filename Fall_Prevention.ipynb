{
  "cells": [
    {
      "cell_type": "markdown",
      "metadata": {
        "id": "view-in-github",
        "colab_type": "text"
      },
      "source": [
        "<a href=\"https://colab.research.google.com/github/oradbarel/Fall-Prevention/blob/main/Fall_Prevention.ipynb\" target=\"_parent\"><img src=\"https://colab.research.google.com/assets/colab-badge.svg\" alt=\"Open In Colab\"/></a>"
      ]
    },
    {
      "cell_type": "markdown",
      "id": "9bc762e9",
      "metadata": {
        "id": "9bc762e9"
      },
      "source": [
        "# Fall Pervention - Data Analysis Document Review\n",
        "\n",
        "### Table of Content:\n",
        "1. [Background](#1)\n",
        "2. [Creating a Dataset](#2)\n",
        "3. [Choosing a Model](#3)\n",
        "> 3.a. [Decision Tree](#3.a) <br>\n",
        "> 3.b  [K-Nearest Neighbours](#3.b) <br>\n",
        "> 3.b. [Transformer Neural Network](#3.c) <br>\n",
        "> 3.c. [Recurrent Neural Network](#3.d) <br>\n",
        "> 3.d. [Conclusion](#3.e) <br>\n",
        "4. [Creating Simulated Dataset](#4)\n",
        "> 4.a. [Importing the libraries](#4.a) <br>\n",
        "> 4.b. [Dataset Simulation](#4.b) <br>\n",
        "> 4.c. [Exploring the Simulated Data](#4.c) <br>\n",
        "5. [Building the Models](#5)\n",
        "> 5.a. [Decision Tree](#5.a) <br>\n",
        "> 5.b  [K-Nearest Neighbours](#5.b) <br>\n",
        "> 5.b. [Transformer Neural Network](#5.c) <br>\n",
        "> 5.c. [Recurrent Neural Network](#5.d) <br>\n",
        "> 5.d. [Conclusion](#5.e) <br>\n",
        "\n",
        "\n",
        "\n"
      ]
    },
    {
      "cell_type": "markdown",
      "source": [
        "<a name=\"1\"></a> \n",
        "### 1. Background:"
      ],
      "metadata": {
        "id": "zJ6_SR9lgFk-"
      },
      "id": "zJ6_SR9lgFk-"
    },
    {
      "cell_type": "markdown",
      "source": [
        "TODO"
      ],
      "metadata": {
        "id": "eM1my_fClRyX"
      },
      "id": "eM1my_fClRyX"
    },
    {
      "cell_type": "markdown",
      "source": [
        "<a name=\"2\"></a> \n",
        "### 2. Creating a Dataset:"
      ],
      "metadata": {
        "id": "--ODHOarlCM_"
      },
      "id": "--ODHOarlCM_"
    },
    {
      "cell_type": "markdown",
      "source": [
        "TODO"
      ],
      "metadata": {
        "id": "RhXTxTvulWXS"
      },
      "id": "RhXTxTvulWXS"
    },
    {
      "cell_type": "markdown",
      "source": [
        "<a name=\"3\"></a> \n",
        "### 3. Choosing a Model:"
      ],
      "metadata": {
        "id": "6cVJ_aJViu8N"
      },
      "id": "6cVJ_aJViu8N"
    },
    {
      "cell_type": "markdown",
      "source": [
        "In order to predict the patient's current status (back lying, side lying, getting up), we should create a prediction model (Using Machine Learning or Deep Learning) which will use our dataset.<br>\n",
        "Best suited models to our prediction problem:"
      ],
      "metadata": {
        "id": "TMmeuSxBlbqI"
      },
      "id": "TMmeuSxBlbqI"
    },
    {
      "cell_type": "markdown",
      "source": [
        "<a name=\"3.a\"></a> \n",
        "#### 3.a. Decision Tree:\n",
        "Decision Tree is relatively simple Machine Learning model that uses features thresholds (e.g. value from our FS) in order to make a decision.<br>\n",
        "####Pros:\n",
        "- Explainable - DT will make decisions that depends on the discreet values of our sensors.\n",
        "- Fast decision making - Real time predictions at O(d) when d is the deepest node of the tree (WC)\n",
        "\n",
        "####Cons:\n",
        "- Work on only 1 sample to predict - The DT can only look at 1 sample (as set of features) at once\n",
        "-  Might not be accurate - DT model predicts by horizontal and vertical separations."
      ],
      "metadata": {
        "id": "I78ACqS1mnVu"
      },
      "id": "I78ACqS1mnVu"
    },
    {
      "cell_type": "markdown",
      "source": [
        "<a name=\"3.b\"></a> \n",
        "#### 3.b. K-Nearest Neighbours:\n",
        " K-Nearest Neighbours (KNN) is Machine Learning model make a decision by comparing a sample to it's closest samples in the training set.<br>\n",
        "####Pros:\n",
        "- Explainable - KNN will make decisions that depends on the discreet values of our sensors.\n",
        "\n",
        "####Cons:\n",
        "- Work on only 1 sample to predict - The DT can only look at 1 sample (as set of features) at once\n",
        "- Heavy on Storage and prediction - this model (KNN) not really train, as it compare new sample to all of the training set each time."
      ],
      "metadata": {
        "id": "kD-MDqLNtHEz"
      },
      "id": "kD-MDqLNtHEz"
    },
    {
      "cell_type": "markdown",
      "source": [
        "<a name=\"3.c\"></a> \n",
        "#### 3.c. Transformer Neural Network:\n",
        "Transformer Neural Network is a Deep Learning model that uses Deep Neural Networks in order to make a decision. Furthermore, Transformer can create its own inputs by combining existing vlaues.<br>\n",
        "####Pros:\n",
        "- High expexted prediction rate - more complex, non-linear function can be learned\n",
        "- Take into account the relations between the features - We can weight the relationships between different sensors inputs for more accurate \"features\"\n",
        "\n",
        "####Cons:\n",
        "- Work on only 1 sample to predict - can only look at 1 sample (as set of features) at once\n",
        "- Zero to no explainability - Known problem of DNNs\n",
        "- Harder to train - Require rich dataset and heavy compute equipment"
      ],
      "metadata": {
        "id": "I_PgZncInUSR"
      },
      "id": "I_PgZncInUSR"
    },
    {
      "cell_type": "markdown",
      "source": [
        "<a name=\"3.d\"></a> \n",
        "#### 3.d.  Recurrent Neural Network:\n",
        "Recurrent Neural Network is a Deep Learning model that uses Deep Neural Networks that make a decision by looking at window of data samples on given time.<br>\n",
        "####Pros:\n",
        "- High expexted prediction rate - more complex, non-linear function can be learned\n",
        "- Works on data streams - Use series of time adjacent samples in order to make the predictions\n",
        "\n",
        "####Cons:\n",
        "- Zero to no explainability - Known problem of DNNs\n",
        "- Harder to train - Require rich dataset and heavy compute equipment"
      ],
      "metadata": {
        "id": "lcg71nxJnbML"
      },
      "id": "lcg71nxJnbML"
    },
    {
      "cell_type": "markdown",
      "source": [
        "<a name=\"3.e\"></a> \n",
        "#### 3.e.  Conclusion:\n",
        "todo\n",
        "\n",
        "\n",
        "RNN (Recurrent Neural Network) seems to be the Ideal model the our prediction problem, as it's the only option that let us use data streams."
      ],
      "metadata": {
        "id": "bEVvBUdsqX0K"
      },
      "id": "bEVvBUdsqX0K"
    },
    {
      "cell_type": "markdown",
      "source": [
        "<a name=\"4\"></a> \n",
        "### 4.  Creating Simulated Dataset:\n",
        "High level flow chart of the RNN:\n",
        "\n",
        "![_דיאגרמה ללא שם_.drawio.png](data:image/png;base64,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)"
      ],
      "metadata": {
        "id": "x6hh1kqqsJh4"
      },
      "id": "x6hh1kqqsJh4"
    },
    {
      "cell_type": "markdown",
      "source": [
        "<a name=\"4.a\"></a> \n",
        "#### 4.a. Importing the libraries\n",
        "We'll use Matplotlib for our charts, Numpy, Pandas, Seaborn for the data and calculations, and Tensorflor for the Neural Network."
      ],
      "metadata": {
        "id": "whRIEK3qCe95"
      },
      "id": "whRIEK3qCe95"
    },
    {
      "cell_type": "code",
      "source": [
        "import matplotlib as mpl\n",
        "import matplotlib.pyplot as plt\n",
        "import numpy as np\n",
        "import pandas as pd\n",
        "import seaborn as sns\n",
        "import tensorflow as tf"
      ],
      "metadata": {
        "id": "EYKVILywsMYW"
      },
      "id": "EYKVILywsMYW",
      "execution_count": 116,
      "outputs": []
    },
    {
      "cell_type": "markdown",
      "source": [
        "<a name=\"4.b\"></a> \n",
        "#### 4.b. Dataset Simulation\n",
        "To Simulate the sensors data, we can use the data set from https://physionet.org/content/pmd/1.0.0/.\n",
        "\n",
        "Each sample from this dataset discribes a value of pressure sensor, from 32x64 sensors matrix, thats lying under a patient bed."
      ],
      "metadata": {
        "id": "AysfoC2lDNAa"
      },
      "id": "AysfoC2lDNAa"
    },
    {
      "cell_type": "code",
      "source": [
        "!wget https://physionet.org/static/published-projects/pmd/a-pressure-map-dataset-for-in-bed-posture-classification-1.0.0.zip\n",
        "!unzip -q a-pressure-map-dataset-for-in-bed-posture-classification-1.0.0.zip\n",
        "!mv a-pressure-map-dataset-for-in-bed-posture-classification-1.0.0 dataset "
      ],
      "metadata": {
        "colab": {
          "base_uri": "https://localhost:8080/"
        },
        "id": "VlErLo7pJ1hV",
        "outputId": "65793472-eae7-4292-930d-550152edaca4"
      },
      "id": "VlErLo7pJ1hV",
      "execution_count": 117,
      "outputs": [
        {
          "output_type": "stream",
          "name": "stdout",
          "text": [
            "--2022-11-09 12:46:55--  https://physionet.org/static/published-projects/pmd/a-pressure-map-dataset-for-in-bed-posture-classification-1.0.0.zip\n",
            "Resolving physionet.org (physionet.org)... 18.18.42.54\n",
            "Connecting to physionet.org (physionet.org)|18.18.42.54|:443... connected.\n",
            "HTTP request sent, awaiting response... 200 OK\n",
            "Length: 107315828 (102M) [application/zip]\n",
            "Saving to: ‘a-pressure-map-dataset-for-in-bed-posture-classification-1.0.0.zip.1’\n",
            "\n",
            "a-pressure-map-data 100%[===================>] 102.34M  1.94MB/s    in 53s     \n",
            "\n",
            "2022-11-09 12:47:49 (1.93 MB/s) - ‘a-pressure-map-dataset-for-in-bed-posture-classification-1.0.0.zip.1’ saved [107315828/107315828]\n",
            "\n"
          ]
        }
      ]
    },
    {
      "cell_type": "markdown",
      "source": [
        "Libraries for are simulation:"
      ],
      "metadata": {
        "id": "6YtRA2W-dbP8"
      },
      "id": "6YtRA2W-dbP8"
    },
    {
      "cell_type": "code",
      "source": [
        "import torch\n",
        "import os\n",
        "from torchvision import transforms\n",
        "import copy\n",
        "from time import sleep as zzz\n",
        "from IPython.display import clear_output"
      ],
      "metadata": {
        "id": "XnHiDGXtLYjm"
      },
      "id": "XnHiDGXtLYjm",
      "execution_count": 118,
      "outputs": []
    },
    {
      "cell_type": "markdown",
      "source": [
        "**Auxiliary Constants, Definitions and Functions:**"
      ],
      "metadata": {
        "id": "1BmmHL7QZ8qm"
      },
      "id": "1BmmHL7QZ8qm"
    },
    {
      "cell_type": "code",
      "source": [
        "# Main data folder\n",
        "data_path = './dataset/experiment-i/'\n",
        "\n",
        "\"\"\"\n",
        "Classification order of the sample files:\n",
        "0 - back lynig, 1 - right lying, 2 - left lying\n",
        "\"\"\"\n",
        "pos_order = [0, 0, 1, 2, 1, 1, 2, 2, 0, 0, 0, 0, 0, 1, 2, 0, 0, 0]\n",
        "\n",
        "# Will consist all of the raw data\n",
        "data = {}\n",
        "\n",
        "# Extracting patients weight\n",
        "weight_file_path = os.path.join(data_path, 'subject-info-i.csv')\n",
        "weights = pd.read_csv(weight_file_path, encoding=\"utf-16\")\n",
        "\n",
        "# Sensors that we will use to simulate our system\n",
        "sensors = [(12,8), (12,12), (12,16), (12,20), (18,8), (18,12), (18,16), (18,20)]\n",
        "\n",
        "\"\"\"\n",
        "@ paint_sensors: Paint sub-group of sensors that simulate our system\n",
        "@ arg: sample - 64x32 matrix representing force sensors image\n",
        "@ returns: None\n",
        "\"\"\"\n",
        "def paint_sensors(sample):\n",
        "  for sensor in sensors:\n",
        "    sample[sensor[0]][sensor[1]] = 1\n"
      ],
      "metadata": {
        "id": "NDmP8-SeZ9Dm"
      },
      "id": "NDmP8-SeZ9Dm",
      "execution_count": 119,
      "outputs": []
    },
    {
      "cell_type": "markdown",
      "source": [
        "Creating the (simulated) dataset:"
      ],
      "metadata": {
        "id": "Z4nPbnxQdo9d"
      },
      "id": "Z4nPbnxQdo9d"
    },
    {
      "cell_type": "code",
      "source": [
        "# For each Patient dir\n",
        "for dir in os.listdir(data_path):\n",
        "  if os.path.isfile(os.path.join(data_path, dir)):\n",
        "    continue\n",
        "\n",
        "  new_data, labels = None, None\n",
        "\n",
        "  # For each data file\n",
        "  for file in os.listdir(os.path.join(data_path, dir)):\n",
        "    with open(os.path.join(data_path, dir, file), 'r') as f:\n",
        "      for line in f.read().splitlines():\n",
        "        raw_data = np.fromstring(line, dtype=float, sep='\\t')\n",
        "        file_data = np.round((raw_data*255)/1000).astype(np.uint8)\n",
        "        Normalize = transforms.Compose([transforms.ToPILImage(), transforms.ToTensor()])\n",
        "        file_data = Normalize(file_data.reshape(64,32))\n",
        "        file_data = file_data.view(1, 64, 32)\n",
        "        file_label = np.array([pos_order[int(file[:-4])]])\n",
        "\n",
        "        # First data\n",
        "        if new_data is None:\n",
        "          new_data = file_data\n",
        "          labels = file_label\n",
        "        else:\n",
        "          new_data = np.concatenate((new_data, file_data), axis=0)\n",
        "          labels = np.concatenate((labels, file_label), axis=0)\n",
        "\n",
        "  data[dir] = (torch.from_numpy(new_data), torch.from_numpy(labels))"
      ],
      "metadata": {
        "id": "EJSFYqNlJ28T"
      },
      "id": "EJSFYqNlJ28T",
      "execution_count": 120,
      "outputs": []
    },
    {
      "cell_type": "markdown",
      "source": [
        "Visualisation of the sensors layout we will use in our dataset:"
      ],
      "metadata": {
        "id": "mSs86drRjqNy"
      },
      "id": "mSs86drRjqNy"
    },
    {
      "cell_type": "code",
      "source": [
        "sample = copy.deepcopy(data['S2'][0].numpy()[450])\n",
        "paint_sensors(sample)\n",
        "\n",
        "f, pl = plt.subplots(1, 2)\n",
        "pl[0].imshow(data['S2'][0].numpy()[450])\n",
        "pl[1].imshow(sample)\n",
        "\n",
        "plt.title(\"Sensors that we'll use (in yellow)\")"
      ],
      "metadata": {
        "colab": {
          "base_uri": "https://localhost:8080/",
          "height": 319
        },
        "id": "M7LetuoaXtUi",
        "outputId": "8018e475-d1d4-4337-8566-153bc8d85947"
      },
      "id": "M7LetuoaXtUi",
      "execution_count": 121,
      "outputs": [
        {
          "output_type": "execute_result",
          "data": {
            "text/plain": [
              "Text(0.5, 1.0, \"Sensors that we'll use (in yellow)\")"
            ]
          },
          "metadata": {},
          "execution_count": 121
        },
        {
          "output_type": "display_data",
          "data": {
            "text/plain": [
              "<Figure size 432x288 with 2 Axes>"
            ],
            "image/png": "[encoded data removed]"
          },
          "metadata": {
            "needs_background": "light"
          }
        }
      ]
    },
    {
      "cell_type": "markdown",
      "source": [
        "Code for visualise the patient's position over the time:"
      ],
      "metadata": {
        "id": "tqhk7nZgsyhf"
      },
      "id": "tqhk7nZgsyhf"
    },
    {
      "cell_type": "code",
      "source": [
        "\"\"\"\n",
        "for i in data['S2'][0].numpy():\n",
        "  plt.imshow(i)\n",
        "  plt.show()\n",
        "  clear_output(wait=True)\n",
        "\"\"\""
      ],
      "metadata": {
        "colab": {
          "base_uri": "https://localhost:8080/",
          "height": 57
        },
        "id": "2Qmmwdgrqh_4",
        "outputId": "6370b5e3-98ef-4bb8-89eb-63fff8403501"
      },
      "id": "2Qmmwdgrqh_4",
      "execution_count": 122,
      "outputs": [
        {
          "output_type": "execute_result",
          "data": {
            "text/plain": [
              "\"\\nfor i in data['S2'][0].numpy():\\n  plt.imshow(i)\\n  plt.show()\\n  clear_output(wait=True)\\n\""
            ],
            "application/vnd.google.colaboratory.intrinsic+json": {
              "type": "string"
            }
          },
          "metadata": {},
          "execution_count": 122
        }
      ]
    },
    {
      "cell_type": "markdown",
      "source": [
        "Creating the actual simulated dataset:\n",
        "**bold text**Each sample in the dataset will consist:\n",
        "- sensors[0-7]\n",
        "- patient weight\n",
        "- binary label (0 - back lynig, 1 - right side lying, 2 - left side lying)"
      ],
      "metadata": {
        "id": "u4WgXSzzggt9"
      },
      "id": "u4WgXSzzggt9"
    },
    {
      "cell_type": "code",
      "source": [
        "df_labels = [\"FS0\", \"FS1\", \"FS2\", \"FS3\", \"FS4\", \"FS5\", \"FS6\", \"FS7\", \"Weight\", \"Pos\"]\n",
        "dataset = []\n",
        "\n",
        "for patient in data.keys():\n",
        "  patient_weight = weights['Weight/kg'][int(patient[1:]) - 1]\n",
        "  sample = data[patient][0].numpy()\n",
        "  for i, s in enumerate(sample):\n",
        "    to_add = [s[sensor[0]][sensor[1]] for sensor in sensors]\n",
        "    to_add.append(patient_weight/100)\n",
        "    to_add.append(data[patient][1][i].item())\n",
        "    dataset.append(to_add)\n",
        "\n",
        "df = pd.DataFrame(dataset, columns = df_labels)"
      ],
      "metadata": {
        "id": "uPX6-Iw2bwkg"
      },
      "id": "uPX6-Iw2bwkg",
      "execution_count": 173,
      "outputs": []
    },
    {
      "cell_type": "markdown",
      "source": [
        "Dataset sample - Sanity check:\n",
        "\n",
        "We can see that the for each row of our force sensors, we get values that get bigger (left to right) because our patient in this case is lying on the right side of it's bed."
      ],
      "metadata": {
        "id": "tIArJDSyhCnA"
      },
      "id": "tIArJDSyhCnA"
    },
    {
      "cell_type": "code",
      "source": [
        "sample = copy.deepcopy(data[list(data.keys())[0]][0].numpy()[5])\n",
        "paint_sensors(sample)\n",
        "plt.imshow(sample)\n",
        "plt.title(\"Sensors that we'll use (in yellow)\")\n",
        "df.head()"
      ],
      "metadata": {
        "colab": {
          "base_uri": "https://localhost:8080/",
          "height": 492
        },
        "id": "8ylGUSu9r5Pp",
        "outputId": "3465c2cb-1046-4c43-ad87-6b919cfdcabb"
      },
      "id": "8ylGUSu9r5Pp",
      "execution_count": 174,
      "outputs": [
        {
          "output_type": "execute_result",
          "data": {
            "text/plain": [
              "        FS0       FS1       FS2       FS3       FS4       FS5       FS6  \\\n",
              "0  0.000000  0.000000  0.000000  0.000000  0.000000  0.000000  0.000000   \n",
              "1  0.298039  0.533333  0.000000  0.019608  0.788235  0.039216  0.058824   \n",
              "2  0.015686  0.027451  0.066667  0.070588  0.031373  0.015686  0.047059   \n",
              "3  0.015686  0.027451  0.066667  0.070588  0.031373  0.015686  0.047059   \n",
              "4  0.015686  0.027451  0.066667  0.074510  0.031373  0.011765  0.047059   \n",
              "\n",
              "        FS7  Weight  Pos  \n",
              "0  0.000000    0.66    1  \n",
              "1  0.274510    0.66    1  \n",
              "2  0.039216    0.66    1  \n",
              "3  0.043137    0.66    1  \n",
              "4  0.043137    0.66    1  "
            ],
            "text/html": [
              "\n",
              "  <div id=\"df-31df8c7a-f6af-474e-8654-2e14b5501d31\">\n",
              "    <div class=\"colab-df-container\">\n",
              "      <div>\n",
              "<style scoped>\n",
              "    .dataframe tbody tr th:only-of-type {\n",
              "        vertical-align: middle;\n",
              "    }\n",
              "\n",
              "    .dataframe tbody tr th {\n",
              "        vertical-align: top;\n",
              "    }\n",
              "\n",
              "    .dataframe thead th {\n",
              "        text-align: right;\n",
              "    }\n",
              "</style>\n",
              "<table border=\"1\" class=\"dataframe\">\n",
              "  <thead>\n",
              "    <tr style=\"text-align: right;\">\n",
              "      <th></th>\n",
              "      <th>FS0</th>\n",
              "      <th>FS1</th>\n",
              "      <th>FS2</th>\n",
              "      <th>FS3</th>\n",
              "      <th>FS4</th>\n",
              "      <th>FS5</th>\n",
              "      <th>FS6</th>\n",
              "      <th>FS7</th>\n",
              "      <th>Weight</th>\n",
              "      <th>Pos</th>\n",
              "    </tr>\n",
              "  </thead>\n",
              "  <tbody>\n",
              "    <tr>\n",
              "      <th>0</th>\n",
              "      <td>0.000000</td>\n",
              "      <td>0.000000</td>\n",
              "      <td>0.000000</td>\n",
              "      <td>0.000000</td>\n",
              "      <td>0.000000</td>\n",
              "      <td>0.000000</td>\n",
              "      <td>0.000000</td>\n",
              "      <td>0.000000</td>\n",
              "      <td>0.66</td>\n",
              "      <td>1</td>\n",
              "    </tr>\n",
              "    <tr>\n",
              "      <th>1</th>\n",
              "      <td>0.298039</td>\n",
              "      <td>0.533333</td>\n",
              "      <td>0.000000</td>\n",
              "      <td>0.019608</td>\n",
              "      <td>0.788235</td>\n",
              "      <td>0.039216</td>\n",
              "      <td>0.058824</td>\n",
              "      <td>0.274510</td>\n",
              "      <td>0.66</td>\n",
              "      <td>1</td>\n",
              "    </tr>\n",
              "    <tr>\n",
              "      <th>2</th>\n",
              "      <td>0.015686</td>\n",
              "      <td>0.027451</td>\n",
              "      <td>0.066667</td>\n",
              "      <td>0.070588</td>\n",
              "      <td>0.031373</td>\n",
              "      <td>0.015686</td>\n",
              "      <td>0.047059</td>\n",
              "      <td>0.039216</td>\n",
              "      <td>0.66</td>\n",
              "      <td>1</td>\n",
              "    </tr>\n",
              "    <tr>\n",
              "      <th>3</th>\n",
              "      <td>0.015686</td>\n",
              "      <td>0.027451</td>\n",
              "      <td>0.066667</td>\n",
              "      <td>0.070588</td>\n",
              "      <td>0.031373</td>\n",
              "      <td>0.015686</td>\n",
              "      <td>0.047059</td>\n",
              "      <td>0.043137</td>\n",
              "      <td>0.66</td>\n",
              "      <td>1</td>\n",
              "    </tr>\n",
              "    <tr>\n",
              "      <th>4</th>\n",
              "      <td>0.015686</td>\n",
              "      <td>0.027451</td>\n",
              "      <td>0.066667</td>\n",
              "      <td>0.074510</td>\n",
              "      <td>0.031373</td>\n",
              "      <td>0.011765</td>\n",
              "      <td>0.047059</td>\n",
              "      <td>0.043137</td>\n",
              "      <td>0.66</td>\n",
              "      <td>1</td>\n",
              "    </tr>\n",
              "  </tbody>\n",
              "</table>\n",
              "</div>\n",
              "      <button class=\"colab-df-convert\" onclick=\"convertToInteractive('df-31df8c7a-f6af-474e-8654-2e14b5501d31')\"\n",
              "              title=\"Convert this dataframe to an interactive table.\"\n",
              "              style=\"display:none;\">\n",
              "        \n",
              "  <svg xmlns=\"http://www.w3.org/2000/svg\" height=\"24px\"viewBox=\"0 0 24 24\"\n",
              "       width=\"24px\">\n",
              "    <path d=\"M0 0h24v24H0V0z\" fill=\"none\"/>\n",
              "    <path d=\"M18.56 5.44l.94 2.06.94-2.06 2.06-.94-2.06-.94-.94-2.06-.94 2.06-2.06.94zm-11 1L8.5 8.5l.94-2.06 2.06-.94-2.06-.94L8.5 2.5l-.94 2.06-2.06.94zm10 10l.94 2.06.94-2.06 2.06-.94-2.06-.94-.94-2.06-.94 2.06-2.06.94z\"/><path d=\"M17.41 7.96l-1.37-1.37c-.4-.4-.92-.59-1.43-.59-.52 0-1.04.2-1.43.59L10.3 9.45l-7.72 7.72c-.78.78-.78 2.05 0 2.83L4 21.41c.39.39.9.59 1.41.59.51 0 1.02-.2 1.41-.59l7.78-7.78 2.81-2.81c.8-.78.8-2.07 0-2.86zM5.41 20L4 18.59l7.72-7.72 1.47 1.35L5.41 20z\"/>\n",
              "  </svg>\n",
              "      </button>\n",
              "      \n",
              "  <style>\n",
              "    .colab-df-container {\n",
              "      display:flex;\n",
              "      flex-wrap:wrap;\n",
              "      gap: 12px;\n",
              "    }\n",
              "\n",
              "    .colab-df-convert {\n",
              "      background-color: #E8F0FE;\n",
              "      border: none;\n",
              "      border-radius: 50%;\n",
              "      cursor: pointer;\n",
              "      display: none;\n",
              "      fill: #1967D2;\n",
              "      height: 32px;\n",
              "      padding: 0 0 0 0;\n",
              "      width: 32px;\n",
              "    }\n",
              "\n",
              "    .colab-df-convert:hover {\n",
              "      background-color: #E2EBFA;\n",
              "      box-shadow: 0px 1px 2px rgba(60, 64, 67, 0.3), 0px 1px 3px 1px rgba(60, 64, 67, 0.15);\n",
              "      fill: #174EA6;\n",
              "    }\n",
              "\n",
              "    [theme=dark] .colab-df-convert {\n",
              "      background-color: #3B4455;\n",
              "      fill: #D2E3FC;\n",
              "    }\n",
              "\n",
              "    [theme=dark] .colab-df-convert:hover {\n",
              "      background-color: #434B5C;\n",
              "      box-shadow: 0px 1px 3px 1px rgba(0, 0, 0, 0.15);\n",
              "      filter: drop-shadow(0px 1px 2px rgba(0, 0, 0, 0.3));\n",
              "      fill: #FFFFFF;\n",
              "    }\n",
              "  </style>\n",
              "\n",
              "      <script>\n",
              "        const buttonEl =\n",
              "          document.querySelector('#df-31df8c7a-f6af-474e-8654-2e14b5501d31 button.colab-df-convert');\n",
              "        buttonEl.style.display =\n",
              "          google.colab.kernel.accessAllowed ? 'block' : 'none';\n",
              "\n",
              "        async function convertToInteractive(key) {\n",
              "          const element = document.querySelector('#df-31df8c7a-f6af-474e-8654-2e14b5501d31');\n",
              "          const dataTable =\n",
              "            await google.colab.kernel.invokeFunction('convertToInteractive',\n",
              "                                                     [key], {});\n",
              "          if (!dataTable) return;\n",
              "\n",
              "          const docLinkHtml = 'Like what you see? Visit the ' +\n",
              "            '<a target=\"_blank\" href=https://colab.research.google.com/notebooks/data_table.ipynb>data table notebook</a>'\n",
              "            + ' to learn more about interactive tables.';\n",
              "          element.innerHTML = '';\n",
              "          dataTable['output_type'] = 'display_data';\n",
              "          await google.colab.output.renderOutput(dataTable, element);\n",
              "          const docLink = document.createElement('div');\n",
              "          docLink.innerHTML = docLinkHtml;\n",
              "          element.appendChild(docLink);\n",
              "        }\n",
              "      </script>\n",
              "    </div>\n",
              "  </div>\n",
              "  "
            ]
          },
          "metadata": {},
          "execution_count": 174
        },
        {
          "output_type": "display_data",
          "data": {
            "text/plain": [
              "<Figure size 432x288 with 1 Axes>"
            ],
            "image/png": "[encoded data removed]"
          },
          "metadata": {
            "needs_background": "light"
          }
        }
      ]
    },
    {
      "cell_type": "markdown",
      "source": [
        "<a name=\"4.c\"></a> \n",
        "#### 4.c. Let's explore our data a little bit further:\n",
        "\n",
        "We can clearly see that when the patient is lying on is back, our patient's weight is devided between the force sensors equally (more or less).\n",
        "\n",
        "Also, When the patient is lying on his/hers side, we can see that the force sensors on coresponding side are also report bigger number on average.\n",
        "\n",
        "(When the patient is on the left, we see higer numbers on FS0, FS4<br>\n",
        "and when the patient is on the right, we see higer numbers on FS3, FS7)"
      ],
      "metadata": {
        "id": "MXtvugIK2AKp"
      },
      "id": "MXtvugIK2AKp"
    },
    {
      "cell_type": "code",
      "source": [
        "f, pl = plt.subplots(2, 2, figsize=(17, 7))\n",
        "\n",
        "tmpdf0 = df[df.Pos == 0]\n",
        "tmpdf1 = df[df.Pos == 1]\n",
        "tmpdf2 = df[df.Pos == 2]\n",
        "\n",
        "sns.boxplot(ax = pl[0][0], data=tmpdf0.loc[:,['FS0', 'FS1', 'FS2', 'FS3', 'FS4', 'FS5', 'FS6', 'FS7']])\n",
        "sns.boxplot(ax = pl[0][1], data=tmpdf1.loc[:,['FS0', 'FS1', 'FS2', 'FS3', 'FS4', 'FS5', 'FS6', 'FS7']])\n",
        "sns.boxplot(ax = pl[1][0], data=tmpdf2.loc[:,['FS0', 'FS1', 'FS2', 'FS3', 'FS4', 'FS5', 'FS6', 'FS7']])\n",
        "\n",
        "pl[0][0].set_title(\"Sensors values when back lying\")\n",
        "pl[0][1].set_title(\"Sensors values when right lying\")\n",
        "pl[1][0].set_title(\"Sensors values when left lying\")"
      ],
      "metadata": {
        "id": "nLVjtHlMhkCW",
        "colab": {
          "base_uri": "https://localhost:8080/",
          "height": 482
        },
        "outputId": "0970e210-4859-4c06-cb5f-866d027a242f"
      },
      "id": "nLVjtHlMhkCW",
      "execution_count": 175,
      "outputs": [
        {
          "output_type": "execute_result",
          "data": {
            "text/plain": [
              "Text(0.5, 1.0, 'Sensors values when left lying')"
            ]
          },
          "metadata": {},
          "execution_count": 175
        },
        {
          "output_type": "display_data",
          "data": {
            "text/plain": [
              "<Figure size 1224x504 with 4 Axes>"
            ],
            "image/png": "[encoded data removed]"
          },
          "metadata": {
            "needs_background": "light"
          }
        }
      ]
    },
    {
      "cell_type": "markdown",
      "source": [
        "Number of samples for each position:"
      ],
      "metadata": {
        "id": "oKXYynmwZHmL"
      },
      "id": "oKXYynmwZHmL"
    },
    {
      "cell_type": "code",
      "source": [
        "df.Pos.value_counts().sort_values().plot(kind = 'barh')"
      ],
      "metadata": {
        "colab": {
          "base_uri": "https://localhost:8080/",
          "height": 303
        },
        "id": "nBQhJX_1IfEh",
        "outputId": "ae2b9cfb-0a50-41f8-dc6c-844dad2d6d54"
      },
      "id": "nBQhJX_1IfEh",
      "execution_count": 176,
      "outputs": [
        {
          "output_type": "execute_result",
          "data": {
            "text/plain": [
              "<matplotlib.axes._subplots.AxesSubplot at 0x7f3780490d50>"
            ]
          },
          "metadata": {},
          "execution_count": 176
        },
        {
          "output_type": "display_data",
          "data": {
            "text/plain": [
              "<Figure size 432x288 with 1 Axes>"
            ],
            "image/png": "[encoded data removed]"
          },
          "metadata": {
            "needs_background": "light"
          }
        }
      ]
    },
    {
      "cell_type": "markdown",
      "source": [
        "<a name=\"5\"></a> \n",
        "### 5.Building the Models"
      ],
      "metadata": {
        "id": "onB6ifZnvqip"
      },
      "id": "onB6ifZnvqip"
    },
    {
      "cell_type": "code",
      "source": [
        "from sklearn.model_selection import train_test_split\n",
        "\n",
        "train, test = train_test_split(df, test_size=0.2)\n",
        "print(train.shape, test.shape)\n",
        "\n",
        "X_train = train.iloc[:,range(9)]\n",
        "y_train = train[\"Pos\"]\n",
        "\n",
        "X_test = test.iloc[:,range(9)]\n",
        "y_test = test[\"Pos\"]"
      ],
      "metadata": {
        "colab": {
          "base_uri": "https://localhost:8080/"
        },
        "id": "BB2KNpOewLr-",
        "outputId": "377df4b6-3564-456f-ef76-5c7d3a2267b4"
      },
      "id": "BB2KNpOewLr-",
      "execution_count": 177,
      "outputs": [
        {
          "output_type": "stream",
          "name": "stdout",
          "text": [
            "(16019, 10) (4005, 10)\n"
          ]
        }
      ]
    },
    {
      "cell_type": "markdown",
      "source": [
        "<a name=\"5.a\"></a> \n",
        "#### 5.a. Decision Tree:"
      ],
      "metadata": {
        "id": "PTb5XZZVwPha"
      },
      "id": "PTb5XZZVwPha"
    },
    {
      "cell_type": "code",
      "source": [
        "from sklearn.tree import DecisionTreeClassifier\n",
        "\n",
        "h = DecisionTreeClassifier(criterion=\"entropy\")\n",
        "h.fit(X_train, y_train)\n",
        "\n",
        "trainAcc = np.sum(h.predict(X_train) == y_train) * 100 / len(y_train)\n",
        "testAcc = np.sum(h.predict(X_test) == y_test) * 100 / len(y_test)\n",
        "\n",
        "print(\"Train Accuracy: {:.1f}%, Test Accuracy: {:.1f}%\".format(trainAcc, testAcc))"
      ],
      "metadata": {
        "colab": {
          "base_uri": "https://localhost:8080/"
        },
        "id": "IOXlHiOuwOMO",
        "outputId": "ea2282bd-a6c9-453e-f8b8-3b770e4bf754"
      },
      "id": "IOXlHiOuwOMO",
      "execution_count": 178,
      "outputs": [
        {
          "output_type": "stream",
          "name": "stdout",
          "text": [
            "Train Accuracy: 99.5%, Test Accuracy: 98.4%\n"
          ]
        }
      ]
    },
    {
      "cell_type": "markdown",
      "source": [
        "<a name=\"5.b\"></a> \n",
        "#### 5.b. K-Nearest Neighbors:"
      ],
      "metadata": {
        "id": "5nnLxyWtw7MV"
      },
      "id": "5nnLxyWtw7MV"
    },
    {
      "cell_type": "code",
      "source": [
        "from sklearn.neighbors import KNeighborsClassifier\n",
        "\n",
        "h = KNeighborsClassifier()\n",
        "h.fit(X_train, y_train)\n",
        "\n",
        "trainAcc = np.sum(h.predict(X_train) == y_train) * 100 / len(y_train)\n",
        "testAcc = np.sum(h.predict(X_test) == y_test) * 100 / len(y_test)\n",
        "\n",
        "print(\"Train Accuracy: {:.1f}%, Test Accuracy: {:.1f}%\".format(trainAcc, testAcc))"
      ],
      "metadata": {
        "colab": {
          "base_uri": "https://localhost:8080/"
        },
        "id": "sTpKkqaghrKF",
        "outputId": "923d831f-1e9c-48a0-a0f0-e1340b07eaa3"
      },
      "id": "sTpKkqaghrKF",
      "execution_count": 179,
      "outputs": [
        {
          "output_type": "stream",
          "name": "stdout",
          "text": [
            "Train Accuracy: 99.0%, Test Accuracy: 98.7%\n"
          ]
        }
      ]
    },
    {
      "cell_type": "markdown",
      "source": [
        "<a name=\"5.c\"></a> \n",
        "#### 5.c. Transformer Neural Network:"
      ],
      "metadata": {
        "id": "DqkYo4Li0cVX"
      },
      "id": "DqkYo4Li0cVX"
    },
    {
      "cell_type": "code",
      "source": [],
      "metadata": {
        "id": "9VcAOajkpkVt"
      },
      "id": "9VcAOajkpkVt",
      "execution_count": 172,
      "outputs": []
    },
    {
      "cell_type": "markdown",
      "source": [
        "<a name=\"5.d\"></a> \n",
        "#### 5.d. Recurrent Neural Network:"
      ],
      "metadata": {
        "id": "KFzY9wfZ0ep3"
      },
      "id": "KFzY9wfZ0ep3"
    },
    {
      "cell_type": "code",
      "source": [],
      "metadata": {
        "id": "Sgf896eR0h4G"
      },
      "id": "Sgf896eR0h4G",
      "execution_count": null,
      "outputs": []
    }
  ],
  "metadata": {
    "kernelspec": {
      "display_name": "Python 3 (ipykernel)",
      "language": "python",
      "name": "python3"
    },
    "language_info": {
      "codemirror_mode": {
        "name": "ipython",
        "version": 3
      },
      "file_extension": ".py",
      "mimetype": "text/x-python",
      "name": "python",
      "nbconvert_exporter": "python",
      "pygments_lexer": "ipython3",
      "version": "3.9.7"
    },
    "colab": {
      "provenance": [],
      "collapsed_sections": [],
      "include_colab_link": true
    }
  },
  "nbformat": 4,
  "nbformat_minor": 5
}