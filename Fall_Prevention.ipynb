{
  "cells": [
    {
      "cell_type": "markdown",
      "id": "9bc762e9",
      "metadata": {
        "id": "9bc762e9"
      },
      "source": [
        "# Fall Pervention - Data Analysis Document Review\n",
        "\n",
        "### Table of Content:\n",
        "1. [Background](#1)\n",
        "2. [Creating a Dataset](#2)\n",
        "3. [Choosing a Model](#3)\n",
        "> 3.a. [Decision Tree](#3.a) <br>\n",
        "> 3.b. [Transformer Neural Network](#3.b) <br>\n",
        "> 3.c. [Recurrent Neural Network](#3.c)\n",
        "> 3.d. [Conclusion](#3.d)\n",
        "\n",
        "\n"
      ]
    },
    {
      "cell_type": "markdown",
      "source": [
        "<a name=\"1\"></a> \n",
        "### 1. Background:"
      ],
      "metadata": {
        "id": "zJ6_SR9lgFk-"
      },
      "id": "zJ6_SR9lgFk-"
    },
    {
      "cell_type": "markdown",
      "source": [
        "TODO"
      ],
      "metadata": {
        "id": "eM1my_fClRyX"
      },
      "id": "eM1my_fClRyX"
    },
    {
      "cell_type": "markdown",
      "source": [
        "<a name=\"2\"></a> \n",
        "### 2. Creating a Dataset:"
      ],
      "metadata": {
        "id": "--ODHOarlCM_"
      },
      "id": "--ODHOarlCM_"
    },
    {
      "cell_type": "markdown",
      "source": [
        "TODO"
      ],
      "metadata": {
        "id": "RhXTxTvulWXS"
      },
      "id": "RhXTxTvulWXS"
    },
    {
      "cell_type": "markdown",
      "source": [
        "<a name=\"3\"></a> \n",
        "### 3. Choosing a Model:"
      ],
      "metadata": {
        "id": "6cVJ_aJViu8N"
      },
      "id": "6cVJ_aJViu8N"
    },
    {
      "cell_type": "markdown",
      "source": [
        "In order to predict the patient's current status (back lying, side lying, getting up), we should create a prediction model (Using Machine Learning or Deep Learning) which will use our dataset.<br>\n",
        "Best suited models to our prediction problem:"
      ],
      "metadata": {
        "id": "TMmeuSxBlbqI"
      },
      "id": "TMmeuSxBlbqI"
    },
    {
      "cell_type": "markdown",
      "source": [
        "<a name=\"3.a\"></a> \n",
        "### 3.a. Decision Tree:\n",
        "Background <br>\n",
        "####Pros:\n",
        "- Explainable - ...\n",
        "- Fast decision making - ...\n",
        "\n",
        "####Cons:\n",
        "- Work on only 1 sample to predict - ...\n",
        "- Heavy on space - ..."
      ],
      "metadata": {
        "id": "I78ACqS1mnVu"
      },
      "id": "I78ACqS1mnVu"
    },
    {
      "cell_type": "markdown",
      "source": [
        "<a name=\"3.b\"></a> \n",
        "### 3.b. Transformer Neural Network:\n",
        "Background <br>\n",
        "####Pros:\n",
        "- High expexted prediction rate - ...\n",
        "- Take into account the relations between the features- ...\n",
        "\n",
        "####Cons:\n",
        "- Work on only 1 sample to predict - ...\n",
        "- Zero to no explainability - ...\n",
        "- Harder to train - ..."
      ],
      "metadata": {
        "id": "I_PgZncInUSR"
      },
      "id": "I_PgZncInUSR"
    },
    {
      "cell_type": "markdown",
      "source": [
        "<a name=\"3.c\"></a> \n",
        "### 3.c.  Recurrent Neural Network:\n",
        "Background <br>\n",
        "####Pros:\n",
        "- High expexted prediction rate - ...\n",
        "- Works on data streams - ...\n",
        "\n",
        "####Cons:\n",
        "- Zero to no explainability - ...\n",
        "- Harder to train - ..."
      ],
      "metadata": {
        "id": "lcg71nxJnbML"
      },
      "id": "lcg71nxJnbML"
    },
    {
      "cell_type": "markdown",
      "source": [
        "<a name=\"3.d\"></a> \n",
        "### 3.d.  Conclusion:\n"
      ],
      "metadata": {
        "id": "bEVvBUdsqX0K"
      },
      "id": "bEVvBUdsqX0K"
    }
  ],
  "metadata": {
    "kernelspec": {
      "display_name": "Python 3 (ipykernel)",
      "language": "python",
      "name": "python3"
    },
    "language_info": {
      "codemirror_mode": {
        "name": "ipython",
        "version": 3
      },
      "file_extension": ".py",
      "mimetype": "text/x-python",
      "name": "python",
      "nbconvert_exporter": "python",
      "pygments_lexer": "ipython3",
      "version": "3.9.7"
    },
    "colab": {
      "provenance": [],
      "collapsed_sections": []
    }
  },
  "nbformat": 4,
  "nbformat_minor": 5
}