{
  "nbformat": 4,
  "nbformat_minor": 0,
  "metadata": {
    "colab": {
      "provenance": []
    },
    "kernelspec": {
      "name": "python3",
      "display_name": "Python 3"
    },
    "language_info": {
      "name": "python"
    }
  },
  "cells": [
    {
      "cell_type": "markdown",
      "source": [
        "# Fall Pervention - Data Analysis"
      ],
      "metadata": {
        "id": "-xh1Of4lk5V2"
      }
    },
    {
      "cell_type": "markdown",
      "source": [
        ">[Fall Pervention - Data Analysis](#scrollTo=-xh1Of4lk5V2)\n",
        "\n",
        ">>[Getting Ready](#scrollTo=o8w5Kah4lic6)\n",
        "\n",
        ">>>>[Importing the libraries](#scrollTo=wzlEwGQKk5m0)\n",
        "\n",
        ">>>>[Uploading the ZIP file containing the patients data dirs:](#scrollTo=ehouBttelr-f)\n",
        "\n",
        ">>>>[Extracting the ZIP file into ./data/](#scrollTo=uLDiWW7ZmAxp)\n",
        "\n",
        ">>>>[Creating our Dataset using all patients data:](#scrollTo=RZWl3rQUmPXV)\n",
        "\n",
        ">>[Data Exploration](#scrollTo=EPiOmgwip-4v)\n",
        "\n",
        ">>>>[Splitting the Dataset](#scrollTo=T7PpCtlYpkZy)\n",
        "\n",
        ">>>>[Data Pre-Processing Pipeline](#scrollTo=QBWfkXz3prUi)\n",
        "\n",
        ">>>>[Boxplots of the sensors:](#scrollTo=txZ71RyyqJbx)\n",
        "\n",
        ">>>>[Jointplots of conflicting positions](#scrollTo=9m7SBaCnrUxB)\n",
        "\n",
        ">>>>[Separating the labels from the data](#scrollTo=ERO0JOWxuSQ3)\n",
        "\n",
        ">>[Everyday I'm Modeling](#scrollTo=xNac6hGA8YsD)\n",
        "\n",
        ">>>[First Take](#scrollTo=cnCP3rDjI01N)\n",
        "\n",
        ">>>>[Convolutional Neural Network](#scrollTo=eqtJcGCF8Y-b)\n",
        "\n",
        ">>>>[Recurrent Neural Network](#scrollTo=gsKIxcXr8udO)\n",
        "\n",
        ">>>>[Random Forest](#scrollTo=veCRuGrz8yGb)\n",
        "\n",
        ">>>[Second Take](#scrollTo=bdyx44AkJAAx)\n",
        "\n",
        ">>>>[Convolutional Neural Network](#scrollTo=mrMTE3pcKXzn)\n",
        "\n",
        ">>>>[Recurrent Neural Network](#scrollTo=BrpSWHmDKui4)\n",
        "\n",
        ">>>>[Random Forest](#scrollTo=mDXAInSDKvg_)\n",
        "\n"
      ],
      "metadata": {
        "colab_type": "toc",
        "id": "W49ja57g6KSv"
      }
    },
    {
      "cell_type": "markdown",
      "source": [
        "## Getting Ready"
      ],
      "metadata": {
        "id": "o8w5Kah4lic6"
      }
    },
    {
      "cell_type": "markdown",
      "source": [
        "#### Importing the libraries\n",
        "We'll use Matplotlib, Seaborn for our charts, Numpy, Pandas for the data and calculations, and Tensorflor/keras for the Neural Networks:"
      ],
      "metadata": {
        "id": "wzlEwGQKk5m0"
      }
    },
    {
      "cell_type": "code",
      "execution_count": 1,
      "metadata": {
        "id": "c4m20rmXKFlg"
      },
      "outputs": [],
      "source": [
        "from google.colab import files\n",
        "\n",
        "import zipfile\n",
        "import random\n",
        "import copy\n",
        "import os\n",
        "\n",
        "import matplotlib.pyplot as plt\n",
        "import seaborn as sns\n",
        "import pandas as pd\n",
        "import numpy as np\n",
        "\n",
        "from sklearn.preprocessing import MinMaxScaler,StandardScaler\n",
        "from sklearn.model_selection import train_test_split\n",
        "from sklearn.tree import DecisionTreeClassifier\n",
        "from sklearn.metrics import mean_squared_error\n",
        "from sklearn.ensemble import RandomForestClassifier\n",
        "\n",
        "from keras.layers import Conv1D, BatchNormalization, Dense, Flatten, Input, LSTM, Dropout\n",
        "from keras.models import Sequential\n",
        "import tensorflow as tf\n",
        "import torch\n",
        "import keras"
      ]
    },
    {
      "cell_type": "markdown",
      "source": [
        "#### Uploading the ZIP file containing the patients data dirs:"
      ],
      "metadata": {
        "id": "ehouBttelr-f"
      }
    },
    {
      "cell_type": "code",
      "source": [
        "uploadedData = files.upload()"
      ],
      "metadata": {
        "colab": {
          "base_uri": "https://localhost:8080/",
          "height": 74
        },
        "id": "oMOOeOfJKLyN",
        "outputId": "a8bb98b9-311f-4608-de7c-8120027d3553"
      },
      "execution_count": 2,
      "outputs": [
        {
          "output_type": "display_data",
          "data": {
            "text/plain": [
              "<IPython.core.display.HTML object>"
            ],
            "text/html": [
              "\n",
              "     <input type=\"file\" id=\"files-6ec6ab80-e0c2-4555-b954-91c91135c9e2\" name=\"files[]\" multiple disabled\n",
              "        style=\"border:none\" />\n",
              "     <output id=\"result-6ec6ab80-e0c2-4555-b954-91c91135c9e2\">\n",
              "      Upload widget is only available when the cell has been executed in the\n",
              "      current browser session. Please rerun this cell to enable.\n",
              "      </output>\n",
              "      <script>// Copyright 2017 Google LLC\n",
              "//\n",
              "// Licensed under the Apache License, Version 2.0 (the \"License\");\n",
              "// you may not use this file except in compliance with the License.\n",
              "// You may obtain a copy of the License at\n",
              "//\n",
              "//      http://www.apache.org/licenses/LICENSE-2.0\n",
              "//\n",
              "// Unless required by applicable law or agreed to in writing, software\n",
              "// distributed under the License is distributed on an \"AS IS\" BASIS,\n",
              "// WITHOUT WARRANTIES OR CONDITIONS OF ANY KIND, either express or implied.\n",
              "// See the License for the specific language governing permissions and\n",
              "// limitations under the License.\n",
              "\n",
              "/**\n",
              " * @fileoverview Helpers for google.colab Python module.\n",
              " */\n",
              "(function(scope) {\n",
              "function span(text, styleAttributes = {}) {\n",
              "  const element = document.createElement('span');\n",
              "  element.textContent = text;\n",
              "  for (const key of Object.keys(styleAttributes)) {\n",
              "    element.style[key] = styleAttributes[key];\n",
              "  }\n",
              "  return element;\n",
              "}\n",
              "\n",
              "// Max number of bytes which will be uploaded at a time.\n",
              "const MAX_PAYLOAD_SIZE = 100 * 1024;\n",
              "\n",
              "function _uploadFiles(inputId, outputId) {\n",
              "  const steps = uploadFilesStep(inputId, outputId);\n",
              "  const outputElement = document.getElementById(outputId);\n",
              "  // Cache steps on the outputElement to make it available for the next call\n",
              "  // to uploadFilesContinue from Python.\n",
              "  outputElement.steps = steps;\n",
              "\n",
              "  return _uploadFilesContinue(outputId);\n",
              "}\n",
              "\n",
              "// This is roughly an async generator (not supported in the browser yet),\n",
              "// where there are multiple asynchronous steps and the Python side is going\n",
              "// to poll for completion of each step.\n",
              "// This uses a Promise to block the python side on completion of each step,\n",
              "// then passes the result of the previous step as the input to the next step.\n",
              "function _uploadFilesContinue(outputId) {\n",
              "  const outputElement = document.getElementById(outputId);\n",
              "  const steps = outputElement.steps;\n",
              "\n",
              "  const next = steps.next(outputElement.lastPromiseValue);\n",
              "  return Promise.resolve(next.value.promise).then((value) => {\n",
              "    // Cache the last promise value to make it available to the next\n",
              "    // step of the generator.\n",
              "    outputElement.lastPromiseValue = value;\n",
              "    return next.value.response;\n",
              "  });\n",
              "}\n",
              "\n",
              "/**\n",
              " * Generator function which is called between each async step of the upload\n",
              " * process.\n",
              " * @param {string} inputId Element ID of the input file picker element.\n",
              " * @param {string} outputId Element ID of the output display.\n",
              " * @return {!Iterable<!Object>} Iterable of next steps.\n",
              " */\n",
              "function* uploadFilesStep(inputId, outputId) {\n",
              "  const inputElement = document.getElementById(inputId);\n",
              "  inputElement.disabled = false;\n",
              "\n",
              "  const outputElement = document.getElementById(outputId);\n",
              "  outputElement.innerHTML = '';\n",
              "\n",
              "  const pickedPromise = new Promise((resolve) => {\n",
              "    inputElement.addEventListener('change', (e) => {\n",
              "      resolve(e.target.files);\n",
              "    });\n",
              "  });\n",
              "\n",
              "  const cancel = document.createElement('button');\n",
              "  inputElement.parentElement.appendChild(cancel);\n",
              "  cancel.textContent = 'Cancel upload';\n",
              "  const cancelPromise = new Promise((resolve) => {\n",
              "    cancel.onclick = () => {\n",
              "      resolve(null);\n",
              "    };\n",
              "  });\n",
              "\n",
              "  // Wait for the user to pick the files.\n",
              "  const files = yield {\n",
              "    promise: Promise.race([pickedPromise, cancelPromise]),\n",
              "    response: {\n",
              "      action: 'starting',\n",
              "    }\n",
              "  };\n",
              "\n",
              "  cancel.remove();\n",
              "\n",
              "  // Disable the input element since further picks are not allowed.\n",
              "  inputElement.disabled = true;\n",
              "\n",
              "  if (!files) {\n",
              "    return {\n",
              "      response: {\n",
              "        action: 'complete',\n",
              "      }\n",
              "    };\n",
              "  }\n",
              "\n",
              "  for (const file of files) {\n",
              "    const li = document.createElement('li');\n",
              "    li.append(span(file.name, {fontWeight: 'bold'}));\n",
              "    li.append(span(\n",
              "        `(${file.type || 'n/a'}) - ${file.size} bytes, ` +\n",
              "        `last modified: ${\n",
              "            file.lastModifiedDate ? file.lastModifiedDate.toLocaleDateString() :\n",
              "                                    'n/a'} - `));\n",
              "    const percent = span('0% done');\n",
              "    li.appendChild(percent);\n",
              "\n",
              "    outputElement.appendChild(li);\n",
              "\n",
              "    const fileDataPromise = new Promise((resolve) => {\n",
              "      const reader = new FileReader();\n",
              "      reader.onload = (e) => {\n",
              "        resolve(e.target.result);\n",
              "      };\n",
              "      reader.readAsArrayBuffer(file);\n",
              "    });\n",
              "    // Wait for the data to be ready.\n",
              "    let fileData = yield {\n",
              "      promise: fileDataPromise,\n",
              "      response: {\n",
              "        action: 'continue',\n",
              "      }\n",
              "    };\n",
              "\n",
              "    // Use a chunked sending to avoid message size limits. See b/62115660.\n",
              "    let position = 0;\n",
              "    do {\n",
              "      const length = Math.min(fileData.byteLength - position, MAX_PAYLOAD_SIZE);\n",
              "      const chunk = new Uint8Array(fileData, position, length);\n",
              "      position += length;\n",
              "\n",
              "      const base64 = btoa(String.fromCharCode.apply(null, chunk));\n",
              "      yield {\n",
              "        response: {\n",
              "          action: 'append',\n",
              "          file: file.name,\n",
              "          data: base64,\n",
              "        },\n",
              "      };\n",
              "\n",
              "      let percentDone = fileData.byteLength === 0 ?\n",
              "          100 :\n",
              "          Math.round((position / fileData.byteLength) * 100);\n",
              "      percent.textContent = `${percentDone}% done`;\n",
              "\n",
              "    } while (position < fileData.byteLength);\n",
              "  }\n",
              "\n",
              "  // All done.\n",
              "  yield {\n",
              "    response: {\n",
              "      action: 'complete',\n",
              "    }\n",
              "  };\n",
              "}\n",
              "\n",
              "scope.google = scope.google || {};\n",
              "scope.google.colab = scope.google.colab || {};\n",
              "scope.google.colab._files = {\n",
              "  _uploadFiles,\n",
              "  _uploadFilesContinue,\n",
              "};\n",
              "})(self);\n",
              "</script> "
            ]
          },
          "metadata": {}
        },
        {
          "output_type": "stream",
          "name": "stdout",
          "text": [
            "Saving data.zip to data.zip\n"
          ]
        }
      ]
    },
    {
      "cell_type": "markdown",
      "source": [
        "#### Extracting the ZIP file into ./data/"
      ],
      "metadata": {
        "id": "uLDiWW7ZmAxp"
      }
    },
    {
      "cell_type": "code",
      "source": [
        "filename = list(uploadedData)[0]\n",
        "data_dir = \"data/\"\n",
        "\n",
        "try:\n",
        "    os.rmdir(data_dir)\n",
        "except FileNotFoundError:\n",
        "    pass\n",
        "\n",
        "os.mkdir(data_dir)\n",
        "\n",
        "with zipfile.ZipFile(filename, 'r') as zip_ref:\n",
        "    zip_ref.extractall(data_dir)"
      ],
      "metadata": {
        "id": "TtLZBTDbLK_N"
      },
      "execution_count": 3,
      "outputs": []
    },
    {
      "cell_type": "markdown",
      "source": [
        "#### Creating our Dataset using all patients data:"
      ],
      "metadata": {
        "id": "RZWl3rQUmPXV"
      }
    },
    {
      "cell_type": "markdown",
      "source": [
        "For each patient dir and for each csv file in the dir, make one dataset containing all of the file's content"
      ],
      "metadata": {
        "id": "Nz3WpGVv_cfi"
      }
    },
    {
      "cell_type": "code",
      "source": [
        "def create_dataset(data_dir: str, rand: bool = False) -> pd.DataFrame:\n",
        "    files_content_list = []\n",
        "    \n",
        "    # For each Patient dir\n",
        "    for dir in os.listdir(data_dir):\n",
        "        if os.path.isfile(os.path.join(data_dir, dir)):\n",
        "            continue\n",
        "\n",
        "        # For each data file\n",
        "        for file in os.listdir(os.path.join(data_dir, dir)):\n",
        "            if not os.path.isfile(os.path.join(data_dir, dir, file)):\n",
        "                continue\n",
        "\n",
        "            file_content = pd.read_csv(os.path.join(data_dir, dir, file))\n",
        "            files_content_list.append(file_content)\n",
        "        \n",
        "    if rand:\n",
        "        random.shuffle(files_content_list)\n",
        "\n",
        "    return pd.concat(files_content_list, axis=0, ignore_index=True)"
      ],
      "metadata": {
        "id": "IygixHNfLant"
      },
      "execution_count": 32,
      "outputs": []
    },
    {
      "cell_type": "code",
      "source": [
        "dataset = create_dataset(data_dir)"
      ],
      "metadata": {
        "id": "HHsS8hFvT1fY"
      },
      "execution_count": 38,
      "outputs": []
    },
    {
      "cell_type": "markdown",
      "source": [
        "## Data Exploration"
      ],
      "metadata": {
        "id": "EPiOmgwip-4v"
      }
    },
    {
      "cell_type": "markdown",
      "source": [
        "Let's look at our data samples:"
      ],
      "metadata": {
        "id": "bXnfpPMzADCf"
      }
    },
    {
      "cell_type": "code",
      "source": [
        "print(dataset.shape)\n",
        "print(dataset.head())"
      ],
      "metadata": {
        "colab": {
          "base_uri": "https://localhost:8080/"
        },
        "id": "8QqUlXYIADun",
        "outputId": "740800fd-7d43-4932-9a8d-c88110e836cf"
      },
      "execution_count": 39,
      "outputs": [
        {
          "output_type": "stream",
          "name": "stdout",
          "text": [
            "(6400, 12)\n",
            "   Unnamed: 0  FFSR1  FFSR2  FFSR3  FFSR4  RFSR1  RFSR2  RFSR3  RFSR4  Weight  \\\n",
            "0           0      0   3517   2915      0      0    809    398    511      79   \n",
            "1           1      0   3555   3082      0      0    838    320    498      79   \n",
            "2           2      0   3544   3181      0      0    835    352    507      79   \n",
            "3           3      0   3543   3095      0      0    835    373    520      79   \n",
            "4           4      0   3546   3120      0      0    837    376    522      79   \n",
            "\n",
            "   Height  Label  \n",
            "0     176      1  \n",
            "1     176      1  \n",
            "2     176      1  \n",
            "3     176      1  \n",
            "4     176      1  \n"
          ]
        }
      ]
    },
    {
      "cell_type": "markdown",
      "source": [
        "We can see that our data sampled equally among the labels:"
      ],
      "metadata": {
        "id": "4neyk54VAEiE"
      }
    },
    {
      "cell_type": "code",
      "source": [
        "print(dataset.Label.value_counts())"
      ],
      "metadata": {
        "colab": {
          "base_uri": "https://localhost:8080/"
        },
        "id": "uxsT4s0sAE8-",
        "outputId": "f4683d38-6da0-47f7-cdc3-e4bebbb38ba8"
      },
      "execution_count": 40,
      "outputs": [
        {
          "output_type": "stream",
          "name": "stdout",
          "text": [
            "1    1280\n",
            "0    1280\n",
            "3    1280\n",
            "2    1280\n",
            "4    1280\n",
            "Name: Label, dtype: int64\n"
          ]
        }
      ]
    },
    {
      "cell_type": "markdown",
      "source": [
        "#### Splitting the Dataset"
      ],
      "metadata": {
        "id": "T7PpCtlYpkZy"
      }
    },
    {
      "cell_type": "markdown",
      "source": [
        "We will use 80% of the dataset for training, and 20% for testing.\n",
        "We will NOT use shuffle, as we want to test \"new\" patients."
      ],
      "metadata": {
        "id": "uzjtzJurAbYZ"
      }
    },
    {
      "cell_type": "code",
      "source": [
        "random_state = 0\n",
        "test_size = 0.2\n",
        "\n",
        "train, test = train_test_split(dataset, test_size=test_size, shuffle=False)\n",
        "\n",
        "print(train.shape, test.shape)"
      ],
      "metadata": {
        "colab": {
          "base_uri": "https://localhost:8080/"
        },
        "id": "w21DbxEATHXn",
        "outputId": "e49aa582-b123-4795-dbf1-1ff294d37e78"
      },
      "execution_count": 36,
      "outputs": [
        {
          "output_type": "stream",
          "name": "stdout",
          "text": [
            "(5120, 12) (1280, 12)\n"
          ]
        }
      ]
    },
    {
      "cell_type": "markdown",
      "source": [
        "#### Data Pre-Processing Pipeline"
      ],
      "metadata": {
        "id": "QBWfkXz3prUi"
      }
    },
    {
      "cell_type": "markdown",
      "source": [
        "Simple Pre-processing:\n",
        "We will remove the ID, Weight and Height columns.\n",
        "Also, We will use Standard Scaler to normalize all of the features."
      ],
      "metadata": {
        "id": "oaVwe2xrA82A"
      }
    },
    {
      "cell_type": "code",
      "source": [
        "class data_preparation():\n",
        "\n",
        "  def __init__(self, training_data, new_data):\n",
        "    self.new_dataset = new_data.copy()\n",
        "    self.training_data_ref = training_data.copy()\n",
        "\n",
        "    self.__remove_ids(self.training_data_ref)\n",
        "\n",
        "  def __remove_ids(self, dataset):\n",
        "      dataset.drop(columns=dataset.columns[0], axis=1,  inplace=True)\n",
        "      dataset.drop(\"Weight\", axis=1,  inplace=True)\n",
        "      dataset.drop(\"Height\", axis=1,  inplace=True)\n",
        "      \n",
        "\n",
        "  def __normalize(self):\n",
        "    all_features = list(self.training_data_ref.columns)\n",
        "    all_features.remove('Label')\n",
        "\n",
        "    \n",
        "    for feature in all_features:\n",
        "        std_scaler = StandardScaler()\n",
        "        std_scaler.fit(self.training_data_ref[[feature]])\n",
        "\n",
        "        self.new_dataset[[feature]] = std_scaler.transform(self.new_dataset[[feature]])\n",
        "    \n",
        "    return self.new_dataset\n",
        "\n",
        "\n",
        "  def prepare(self):\n",
        "    self.__remove_ids(self.new_dataset)\n",
        "    self.__normalize()\n",
        "\n",
        "    return self.new_dataset\n",
        "\n",
        "def preprare_data(training_data, new_data):\n",
        "  data_prep = data_preparation(training_data, new_data)\n",
        "  return data_prep.prepare()\n"
      ],
      "metadata": {
        "id": "uZ0CsrS-QlaA"
      },
      "execution_count": 42,
      "outputs": []
    },
    {
      "cell_type": "markdown",
      "source": [
        "Our data after the pre-processing:"
      ],
      "metadata": {
        "id": "yVCEur4qBfOt"
      }
    },
    {
      "cell_type": "code",
      "source": [
        "prep_train = preprare_data(train, train)\n",
        "prep_test = preprare_data(train, test)\n",
        "\n",
        "print(prep_train.shape, prep_test.shape)\n",
        "prep_train.head()"
      ],
      "metadata": {
        "colab": {
          "base_uri": "https://localhost:8080/",
          "height": 225
        },
        "id": "y-u7VyMcTxFd",
        "outputId": "fd7283f3-2be3-455b-ab1c-79e1aa683a59"
      },
      "execution_count": 41,
      "outputs": [
        {
          "output_type": "stream",
          "name": "stdout",
          "text": [
            "(5120, 9) (1280, 9)\n"
          ]
        },
        {
          "output_type": "execute_result",
          "data": {
            "text/plain": [
              "      FFSR1     FFSR2     FFSR3     FFSR4     RFSR1     RFSR2     RFSR3  \\\n",
              "0 -0.754599  1.407616  1.051460 -0.756259 -0.629833  1.673647 -0.196143   \n",
              "1 -0.754599  1.432207  1.162363 -0.756259 -0.629833  1.768226 -0.455320   \n",
              "2 -0.754599  1.425089  1.228107 -0.756259 -0.629833  1.758442 -0.348991   \n",
              "3 -0.754599  1.424442  1.170996 -0.756259 -0.629833  1.758442 -0.279212   \n",
              "4 -0.754599  1.426383  1.187598 -0.756259 -0.629833  1.764965 -0.269244   \n",
              "\n",
              "      RFSR4  Label  \n",
              "0 -0.088734      1  \n",
              "1 -0.139095      1  \n",
              "2 -0.104230      1  \n",
              "3 -0.053869      1  \n",
              "4 -0.046121      1  "
            ],
            "text/html": [
              "\n",
              "  <div id=\"df-ef1bbb43-60b8-4be2-8954-6a25dbd9f20d\">\n",
              "    <div class=\"colab-df-container\">\n",
              "      <div>\n",
              "<style scoped>\n",
              "    .dataframe tbody tr th:only-of-type {\n",
              "        vertical-align: middle;\n",
              "    }\n",
              "\n",
              "    .dataframe tbody tr th {\n",
              "        vertical-align: top;\n",
              "    }\n",
              "\n",
              "    .dataframe thead th {\n",
              "        text-align: right;\n",
              "    }\n",
              "</style>\n",
              "<table border=\"1\" class=\"dataframe\">\n",
              "  <thead>\n",
              "    <tr style=\"text-align: right;\">\n",
              "      <th></th>\n",
              "      <th>FFSR1</th>\n",
              "      <th>FFSR2</th>\n",
              "      <th>FFSR3</th>\n",
              "      <th>FFSR4</th>\n",
              "      <th>RFSR1</th>\n",
              "      <th>RFSR2</th>\n",
              "      <th>RFSR3</th>\n",
              "      <th>RFSR4</th>\n",
              "      <th>Label</th>\n",
              "    </tr>\n",
              "  </thead>\n",
              "  <tbody>\n",
              "    <tr>\n",
              "      <th>0</th>\n",
              "      <td>-0.754599</td>\n",
              "      <td>1.407616</td>\n",
              "      <td>1.051460</td>\n",
              "      <td>-0.756259</td>\n",
              "      <td>-0.629833</td>\n",
              "      <td>1.673647</td>\n",
              "      <td>-0.196143</td>\n",
              "      <td>-0.088734</td>\n",
              "      <td>1</td>\n",
              "    </tr>\n",
              "    <tr>\n",
              "      <th>1</th>\n",
              "      <td>-0.754599</td>\n",
              "      <td>1.432207</td>\n",
              "      <td>1.162363</td>\n",
              "      <td>-0.756259</td>\n",
              "      <td>-0.629833</td>\n",
              "      <td>1.768226</td>\n",
              "      <td>-0.455320</td>\n",
              "      <td>-0.139095</td>\n",
              "      <td>1</td>\n",
              "    </tr>\n",
              "    <tr>\n",
              "      <th>2</th>\n",
              "      <td>-0.754599</td>\n",
              "      <td>1.425089</td>\n",
              "      <td>1.228107</td>\n",
              "      <td>-0.756259</td>\n",
              "      <td>-0.629833</td>\n",
              "      <td>1.758442</td>\n",
              "      <td>-0.348991</td>\n",
              "      <td>-0.104230</td>\n",
              "      <td>1</td>\n",
              "    </tr>\n",
              "    <tr>\n",
              "      <th>3</th>\n",
              "      <td>-0.754599</td>\n",
              "      <td>1.424442</td>\n",
              "      <td>1.170996</td>\n",
              "      <td>-0.756259</td>\n",
              "      <td>-0.629833</td>\n",
              "      <td>1.758442</td>\n",
              "      <td>-0.279212</td>\n",
              "      <td>-0.053869</td>\n",
              "      <td>1</td>\n",
              "    </tr>\n",
              "    <tr>\n",
              "      <th>4</th>\n",
              "      <td>-0.754599</td>\n",
              "      <td>1.426383</td>\n",
              "      <td>1.187598</td>\n",
              "      <td>-0.756259</td>\n",
              "      <td>-0.629833</td>\n",
              "      <td>1.764965</td>\n",
              "      <td>-0.269244</td>\n",
              "      <td>-0.046121</td>\n",
              "      <td>1</td>\n",
              "    </tr>\n",
              "  </tbody>\n",
              "</table>\n",
              "</div>\n",
              "      <button class=\"colab-df-convert\" onclick=\"convertToInteractive('df-ef1bbb43-60b8-4be2-8954-6a25dbd9f20d')\"\n",
              "              title=\"Convert this dataframe to an interactive table.\"\n",
              "              style=\"display:none;\">\n",
              "        \n",
              "  <svg xmlns=\"http://www.w3.org/2000/svg\" height=\"24px\"viewBox=\"0 0 24 24\"\n",
              "       width=\"24px\">\n",
              "    <path d=\"M0 0h24v24H0V0z\" fill=\"none\"/>\n",
              "    <path d=\"M18.56 5.44l.94 2.06.94-2.06 2.06-.94-2.06-.94-.94-2.06-.94 2.06-2.06.94zm-11 1L8.5 8.5l.94-2.06 2.06-.94-2.06-.94L8.5 2.5l-.94 2.06-2.06.94zm10 10l.94 2.06.94-2.06 2.06-.94-2.06-.94-.94-2.06-.94 2.06-2.06.94z\"/><path d=\"M17.41 7.96l-1.37-1.37c-.4-.4-.92-.59-1.43-.59-.52 0-1.04.2-1.43.59L10.3 9.45l-7.72 7.72c-.78.78-.78 2.05 0 2.83L4 21.41c.39.39.9.59 1.41.59.51 0 1.02-.2 1.41-.59l7.78-7.78 2.81-2.81c.8-.78.8-2.07 0-2.86zM5.41 20L4 18.59l7.72-7.72 1.47 1.35L5.41 20z\"/>\n",
              "  </svg>\n",
              "      </button>\n",
              "      \n",
              "  <style>\n",
              "    .colab-df-container {\n",
              "      display:flex;\n",
              "      flex-wrap:wrap;\n",
              "      gap: 12px;\n",
              "    }\n",
              "\n",
              "    .colab-df-convert {\n",
              "      background-color: #E8F0FE;\n",
              "      border: none;\n",
              "      border-radius: 50%;\n",
              "      cursor: pointer;\n",
              "      display: none;\n",
              "      fill: #1967D2;\n",
              "      height: 32px;\n",
              "      padding: 0 0 0 0;\n",
              "      width: 32px;\n",
              "    }\n",
              "\n",
              "    .colab-df-convert:hover {\n",
              "      background-color: #E2EBFA;\n",
              "      box-shadow: 0px 1px 2px rgba(60, 64, 67, 0.3), 0px 1px 3px 1px rgba(60, 64, 67, 0.15);\n",
              "      fill: #174EA6;\n",
              "    }\n",
              "\n",
              "    [theme=dark] .colab-df-convert {\n",
              "      background-color: #3B4455;\n",
              "      fill: #D2E3FC;\n",
              "    }\n",
              "\n",
              "    [theme=dark] .colab-df-convert:hover {\n",
              "      background-color: #434B5C;\n",
              "      box-shadow: 0px 1px 3px 1px rgba(0, 0, 0, 0.15);\n",
              "      filter: drop-shadow(0px 1px 2px rgba(0, 0, 0, 0.3));\n",
              "      fill: #FFFFFF;\n",
              "    }\n",
              "  </style>\n",
              "\n",
              "      <script>\n",
              "        const buttonEl =\n",
              "          document.querySelector('#df-ef1bbb43-60b8-4be2-8954-6a25dbd9f20d button.colab-df-convert');\n",
              "        buttonEl.style.display =\n",
              "          google.colab.kernel.accessAllowed ? 'block' : 'none';\n",
              "\n",
              "        async function convertToInteractive(key) {\n",
              "          const element = document.querySelector('#df-ef1bbb43-60b8-4be2-8954-6a25dbd9f20d');\n",
              "          const dataTable =\n",
              "            await google.colab.kernel.invokeFunction('convertToInteractive',\n",
              "                                                     [key], {});\n",
              "          if (!dataTable) return;\n",
              "\n",
              "          const docLinkHtml = 'Like what you see? Visit the ' +\n",
              "            '<a target=\"_blank\" href=https://colab.research.google.com/notebooks/data_table.ipynb>data table notebook</a>'\n",
              "            + ' to learn more about interactive tables.';\n",
              "          element.innerHTML = '';\n",
              "          dataTable['output_type'] = 'display_data';\n",
              "          await google.colab.output.renderOutput(dataTable, element);\n",
              "          const docLink = document.createElement('div');\n",
              "          docLink.innerHTML = docLinkHtml;\n",
              "          element.appendChild(docLink);\n",
              "        }\n",
              "      </script>\n",
              "    </div>\n",
              "  </div>\n",
              "  "
            ]
          },
          "metadata": {},
          "execution_count": 41
        }
      ]
    },
    {
      "cell_type": "markdown",
      "source": [
        "#### Boxplots of the sensors:"
      ],
      "metadata": {
        "id": "txZ71RyyqJbx"
      }
    },
    {
      "cell_type": "code",
      "source": [
        "def get_boxplots(data: pd.DataFrame) -> None:\n",
        "    f, pl = plt.subplots(3, 2, figsize=(25, 15))\n",
        "\n",
        "    all_features = list(data.columns)\n",
        "    all_features.remove('Label')\n",
        "\n",
        "    tmpdf0 = data[data.Label == 0]\n",
        "    tmpdf1 = data[data.Label == 1]\n",
        "    tmpdf2 = data[data.Label == 2]\n",
        "    tmpdf3 = data[data.Label == 3]\n",
        "    tmpdf4 = data[data.Label == 4]\n",
        "\n",
        "\n",
        "    sns.boxplot(ax = pl[0][0], data=tmpdf0.loc[:,all_features])\n",
        "    sns.boxplot(ax = pl[0][1], data=tmpdf1.loc[:,all_features])\n",
        "    sns.boxplot(ax = pl[1][0], data=tmpdf2.loc[:,all_features])\n",
        "    sns.boxplot(ax = pl[1][1], data=tmpdf3.loc[:,all_features])\n",
        "    sns.boxplot(ax = pl[2][0], data=tmpdf4.loc[:,all_features])\n",
        "\n",
        "    pl[0][0].set_title(\"Sensors values - Laying Center\")\n",
        "    pl[0][1].set_title(\"Sensors values - Laying Left\")\n",
        "    pl[1][0].set_title(\"Sensors values - Laying Right\")\n",
        "    pl[1][1].set_title(\"Sensors values - Alarm Left\")\n",
        "    pl[2][0].set_title(\"Sensors values - Alarm Right\")\n",
        "\n",
        "    f.tight_layout(pad=5.0)"
      ],
      "metadata": {
        "id": "m5Ml_bJaqI4P"
      },
      "execution_count": 10,
      "outputs": []
    },
    {
      "cell_type": "code",
      "source": [
        "get_boxplots(prep_train)"
      ],
      "metadata": {
        "colab": {
          "base_uri": "https://localhost:8080/",
          "height": 1000
        },
        "id": "CVAWnZC6q42f",
        "outputId": "d5ef9e7f-1f4b-463d-99ba-b941c57a41a0"
      },
      "execution_count": 11,
      "outputs": [
        {
          "output_type": "display_data",
          "data": {
            "text/plain": [
              "<Figure size 1800x1080 with 6 Axes>"
            ],
            "image/png": "[encoded data removed]"
          },
          "metadata": {
            "needs_background": "light"
          }
        }
      ]
    },
    {
      "cell_type": "markdown",
      "source": [
        "We can see that the sensors give unique values for each label (position) in average, thing that will help us later. "
      ],
      "metadata": {
        "id": "dNpI4tWJB-7e"
      }
    },
    {
      "cell_type": "markdown",
      "source": [
        "#### Jointplots of conflicting positions"
      ],
      "metadata": {
        "id": "9m7SBaCnrUxB"
      }
    },
    {
      "cell_type": "code",
      "source": [
        "sns.color_palette(\"colorblind\")\n",
        "g = sns.jointplot(x=\"FFSR3\", y=\"FFSR2\", data=prep_train[(prep_train.Label == 1) | (prep_train.Label == 3)], hue='Label')\n",
        "_ = g.ax_joint.grid(alpha=0.5)\n",
        "g.fig.suptitle(\"Left vs. Left Alarm\")"
      ],
      "metadata": {
        "colab": {
          "base_uri": "https://localhost:8080/",
          "height": 461
        },
        "id": "hxQ2WVbaXABo",
        "outputId": "5398af56-b273-4725-ce51-855dd78dbbec"
      },
      "execution_count": 43,
      "outputs": [
        {
          "output_type": "execute_result",
          "data": {
            "text/plain": [
              "Text(0.5, 0.98, 'Left vs. Left Alarm')"
            ]
          },
          "metadata": {},
          "execution_count": 43
        },
        {
          "output_type": "display_data",
          "data": {
            "text/plain": [
              "<Figure size 432x432 with 3 Axes>"
            ],
            "image/png": "[encoded data removed]"
          },
          "metadata": {
            "needs_background": "light"
          }
        }
      ]
    },
    {
      "cell_type": "code",
      "source": [
        "g = sns.jointplot(x=\"FFSR1\", y=\"FFSR4\", data=prep_train[(prep_train.Label == 2) | (prep_train.Label == 4)], hue='Label')\n",
        "_ = g.ax_joint.grid(alpha=0.5)\n",
        "g.fig.suptitle(\"Right vs. Right Alarm\")"
      ],
      "metadata": {
        "colab": {
          "base_uri": "https://localhost:8080/",
          "height": 461
        },
        "id": "-Hslvh6fcA6H",
        "outputId": "a0c6ba09-9fed-4479-dafd-b5b2441600ee"
      },
      "execution_count": 44,
      "outputs": [
        {
          "output_type": "execute_result",
          "data": {
            "text/plain": [
              "Text(0.5, 0.98, 'Right vs. Right Alarm')"
            ]
          },
          "metadata": {},
          "execution_count": 44
        },
        {
          "output_type": "display_data",
          "data": {
            "text/plain": [
              "<Figure size 432x432 with 3 Axes>"
            ],
            "image/png": "[encoded data removed]"
          },
          "metadata": {
            "needs_background": "light"
          }
        }
      ]
    },
    {
      "cell_type": "markdown",
      "source": [
        "Here we also can see unique values in the sensors that located on the sides of the bed. "
      ],
      "metadata": {
        "id": "1aFtWbhVCd8Q"
      }
    },
    {
      "cell_type": "markdown",
      "source": [
        "#### Separating the labels from the data"
      ],
      "metadata": {
        "id": "ERO0JOWxuSQ3"
      }
    },
    {
      "cell_type": "markdown",
      "source": [
        "For Non-Sequential models:"
      ],
      "metadata": {
        "id": "I2Plj7eNDDJR"
      }
    },
    {
      "cell_type": "code",
      "source": [
        "all_features = list(prep_train.columns)\n",
        "all_features.remove('Label')\n",
        "\n",
        "X_train = prep_train.loc[:,all_features]\n",
        "y_train = prep_train[\"Label\"]\n",
        "\n",
        "X_test = prep_test.loc[:,all_features]\n",
        "y_test = prep_test[\"Label\"]"
      ],
      "metadata": {
        "id": "apYrTDZ4cQfT"
      },
      "execution_count": 45,
      "outputs": []
    },
    {
      "cell_type": "markdown",
      "source": [
        "For Sequential models:"
      ],
      "metadata": {
        "id": "jaLWKlsyDLXr"
      }
    },
    {
      "cell_type": "code",
      "source": [
        "SEQ_LEN = 4\n",
        "\n",
        "def get_time_series_df(X, y, length = SEQ_LEN):\n",
        "    ts_X, ts_y = [], []\n",
        "    for l in range(0, len(X) - length, length):\n",
        "        ts_X.append(X[l:l + length])\n",
        "        ts_y.append(y[l])\n",
        "\n",
        "    return np.array(ts_X), np.array(ts_y)"
      ],
      "metadata": {
        "id": "eSTV8riKuRC6"
      },
      "execution_count": 46,
      "outputs": []
    },
    {
      "cell_type": "code",
      "source": [
        "X_train_sequence, y_train_sequence = get_time_series_df(prep_train.loc[:,all_features].values, prep_train.Label.values)\n",
        "X_test_sequence, y_test_sequence = get_time_series_df(prep_test.loc[:,all_features].values, prep_test.Label.values)"
      ],
      "metadata": {
        "id": "sl_tJe7Zuk6l"
      },
      "execution_count": 48,
      "outputs": []
    },
    {
      "cell_type": "markdown",
      "source": [
        "## Everyday I'm Modeling"
      ],
      "metadata": {
        "id": "xNac6hGA8YsD"
      }
    },
    {
      "cell_type": "markdown",
      "source": [
        "### First Take"
      ],
      "metadata": {
        "id": "cnCP3rDjI01N"
      }
    },
    {
      "cell_type": "markdown",
      "source": [
        "#### Convolutional Neural Network"
      ],
      "metadata": {
        "id": "eqtJcGCF8Y-b"
      }
    },
    {
      "cell_type": "code",
      "source": [
        "model = Sequential()\n",
        "model.add(Input((SEQ_LEN, len(all_features), )))\n",
        "model.add(Conv1D(filters=64, kernel_size=3, padding=\"same\"))\n",
        "model.add(BatchNormalization())\n",
        "model.add(Conv1D(filters=32, kernel_size=3, padding=\"same\"))\n",
        "model.add(BatchNormalization())\n",
        "model.add(Conv1D(filters=32, kernel_size=3, padding=\"same\"))\n",
        "model.add(Flatten())\n",
        "model.add(Dense(32, activation='relu'))\n",
        "model.add(Dense(5))\n",
        "\n",
        "model.compile(optimizer='adam',\n",
        "              loss=tf.keras.losses.SparseCategoricalCrossentropy(from_logits=True),\n",
        "              metrics=['accuracy'])\n",
        "\n",
        "# model.summary()"
      ],
      "metadata": {
        "id": "YNRJWZF2c8LJ"
      },
      "execution_count": 19,
      "outputs": []
    },
    {
      "cell_type": "markdown",
      "source": [
        "High level diagram of the network:"
      ],
      "metadata": {
        "id": "KZ2u_uyJDx1m"
      }
    },
    {
      "cell_type": "code",
      "source": [
        "keras.utils.plot_model(model, show_shapes=True)"
      ],
      "metadata": {
        "colab": {
          "base_uri": "https://localhost:8080/",
          "height": 976
        },
        "id": "iuHtN_DygXks",
        "outputId": "b4cc415d-9081-4f3a-dbec-841f36f92b4e"
      },
      "execution_count": 20,
      "outputs": [
        {
          "output_type": "execute_result",
          "data": {
            "image/png": "[encoded data removed]",
            "text/plain": [
              "<IPython.core.display.Image object>"
            ]
          },
          "metadata": {},
          "execution_count": 20
        }
      ]
    },
    {
      "cell_type": "markdown",
      "source": [
        "Let's train our CNN:"
      ],
      "metadata": {
        "id": "dE38dgBBD39R"
      }
    },
    {
      "cell_type": "code",
      "source": [
        "model.fit(X_train_sequence, y_train_sequence, batch_size=8, epochs=32)"
      ],
      "metadata": {
        "colab": {
          "base_uri": "https://localhost:8080/"
        },
        "id": "aUyz5wSngc0_",
        "outputId": "2ba5e76e-8547-4ef7-fbe2-fd27a115a578"
      },
      "execution_count": 21,
      "outputs": [
        {
          "output_type": "stream",
          "name": "stdout",
          "text": [
            "Epoch 1/32\n",
            "160/160 [==============================] - 4s 5ms/step - loss: 0.6777 - accuracy: 0.7357\n",
            "Epoch 2/32\n",
            "160/160 [==============================] - 1s 4ms/step - loss: 0.4609 - accuracy: 0.8116\n",
            "Epoch 3/32\n",
            "160/160 [==============================] - 1s 5ms/step - loss: 0.3674 - accuracy: 0.8514\n",
            "Epoch 4/32\n",
            "160/160 [==============================] - 1s 7ms/step - loss: 0.3302 - accuracy: 0.8624\n",
            "Epoch 5/32\n",
            "160/160 [==============================] - 1s 6ms/step - loss: 0.2901 - accuracy: 0.8913\n",
            "Epoch 6/32\n",
            "160/160 [==============================] - 1s 8ms/step - loss: 0.2484 - accuracy: 0.9007\n",
            "Epoch 7/32\n",
            "160/160 [==============================] - 1s 6ms/step - loss: 0.2423 - accuracy: 0.9085\n",
            "Epoch 8/32\n",
            "160/160 [==============================] - 1s 5ms/step - loss: 0.2128 - accuracy: 0.9195\n",
            "Epoch 9/32\n",
            "160/160 [==============================] - 1s 4ms/step - loss: 0.2450 - accuracy: 0.9109\n",
            "Epoch 10/32\n",
            "160/160 [==============================] - 1s 6ms/step - loss: 0.1980 - accuracy: 0.9257\n",
            "Epoch 11/32\n",
            "160/160 [==============================] - 1s 8ms/step - loss: 0.1995 - accuracy: 0.9249\n",
            "Epoch 12/32\n",
            "160/160 [==============================] - 1s 6ms/step - loss: 0.1963 - accuracy: 0.9296\n",
            "Epoch 13/32\n",
            "160/160 [==============================] - 1s 7ms/step - loss: 0.1923 - accuracy: 0.9281\n",
            "Epoch 14/32\n",
            "160/160 [==============================] - 1s 6ms/step - loss: 0.1751 - accuracy: 0.9351\n",
            "Epoch 15/32\n",
            "160/160 [==============================] - 1s 6ms/step - loss: 0.1667 - accuracy: 0.9375\n",
            "Epoch 16/32\n",
            "160/160 [==============================] - 1s 6ms/step - loss: 0.1647 - accuracy: 0.9406\n",
            "Epoch 17/32\n",
            "160/160 [==============================] - 1s 5ms/step - loss: 0.1512 - accuracy: 0.9476\n",
            "Epoch 18/32\n",
            "160/160 [==============================] - 1s 7ms/step - loss: 0.1779 - accuracy: 0.9242\n",
            "Epoch 19/32\n",
            "160/160 [==============================] - 1s 6ms/step - loss: 0.1342 - accuracy: 0.9500\n",
            "Epoch 20/32\n",
            "160/160 [==============================] - 1s 6ms/step - loss: 0.1370 - accuracy: 0.9453\n",
            "Epoch 21/32\n",
            "160/160 [==============================] - 1s 5ms/step - loss: 0.1455 - accuracy: 0.9500\n",
            "Epoch 22/32\n",
            "160/160 [==============================] - 1s 5ms/step - loss: 0.1921 - accuracy: 0.9296\n",
            "Epoch 23/32\n",
            "160/160 [==============================] - 1s 5ms/step - loss: 0.1167 - accuracy: 0.9593\n",
            "Epoch 24/32\n",
            "160/160 [==============================] - 1s 7ms/step - loss: 0.1189 - accuracy: 0.9547\n",
            "Epoch 25/32\n",
            "160/160 [==============================] - 1s 5ms/step - loss: 0.1147 - accuracy: 0.9578\n",
            "Epoch 26/32\n",
            "160/160 [==============================] - 0s 3ms/step - loss: 0.0971 - accuracy: 0.9633\n",
            "Epoch 27/32\n",
            "160/160 [==============================] - 0s 3ms/step - loss: 0.1017 - accuracy: 0.9672\n",
            "Epoch 28/32\n",
            "160/160 [==============================] - 1s 5ms/step - loss: 0.1150 - accuracy: 0.9609\n",
            "Epoch 29/32\n",
            "160/160 [==============================] - 1s 4ms/step - loss: 0.1142 - accuracy: 0.9593\n",
            "Epoch 30/32\n",
            "160/160 [==============================] - 1s 4ms/step - loss: 0.1248 - accuracy: 0.9570\n",
            "Epoch 31/32\n",
            "160/160 [==============================] - 1s 3ms/step - loss: 0.0800 - accuracy: 0.9672\n",
            "Epoch 32/32\n",
            "160/160 [==============================] - 1s 3ms/step - loss: 0.0965 - accuracy: 0.9601\n"
          ]
        },
        {
          "output_type": "execute_result",
          "data": {
            "text/plain": [
              "<keras.callbacks.History at 0x7f27b19da880>"
            ]
          },
          "metadata": {},
          "execution_count": 21
        }
      ]
    },
    {
      "cell_type": "code",
      "source": [
        "probability_model = tf.keras.Sequential([model, tf.keras.layers.Softmax()])\n",
        "\n",
        "y_train_pred = probability_model.predict(X_train_sequence)\n",
        "y_train_pred = [np.argmax(i) for i in y_train_pred]\n",
        "\n",
        "y_test_pred = probability_model.predict(X_test_sequence)\n",
        "y_test_pred =  [np.argmax(i) for i in y_test_pred]\n",
        "\n",
        "trainAcc = np.sum(y_train_pred == y_train_sequence) * 100 / len(y_train_sequence)\n",
        "testAcc = np.sum(y_test_pred == y_test_sequence) * 100 / len(y_test_sequence)\n",
        "\n",
        "print(\"Train Accuracy: {:.1f}%, Test Accuracy: {:.1f}%\".format(trainAcc, testAcc))"
      ],
      "metadata": {
        "colab": {
          "base_uri": "https://localhost:8080/"
        },
        "id": "J9Lm49rZh67i",
        "outputId": "017b587c-e5f9-41dd-add7-c97befcedca5"
      },
      "execution_count": 49,
      "outputs": [
        {
          "output_type": "stream",
          "name": "stdout",
          "text": [
            "40/40 [==============================] - 0s 2ms/step\n",
            "10/10 [==============================] - 0s 2ms/step\n",
            "Train Accuracy: 98.0%, Test Accuracy: 71.8%\n"
          ]
        }
      ]
    },
    {
      "cell_type": "markdown",
      "source": [
        "Not good enough!\n",
        "Surprisingly, we have got relatively poor Test Accuracy."
      ],
      "metadata": {
        "id": "CX-xhmuSExCB"
      }
    },
    {
      "cell_type": "markdown",
      "source": [
        "Let's see where the model was wrong:"
      ],
      "metadata": {
        "id": "kT5n4KL7GU0h"
      }
    },
    {
      "cell_type": "code",
      "source": [
        "ds = pd.DataFrame()\n",
        "\n",
        "ds[\"CNN y\"] = y_test_sequence\n",
        "ds[\"CNN y prediction\"] = y_test_pred\n",
        "\n",
        "ds.plot(figsize=(70, 7))"
      ],
      "metadata": {
        "colab": {
          "base_uri": "https://localhost:8080/",
          "height": 226
        },
        "id": "16ULz1QrGZwK",
        "outputId": "06055576-a26a-40f1-9e9f-c0a8175c9531"
      },
      "execution_count": 51,
      "outputs": [
        {
          "output_type": "execute_result",
          "data": {
            "text/plain": [
              "<matplotlib.axes._subplots.AxesSubplot at 0x7f27aabc6790>"
            ]
          },
          "metadata": {},
          "execution_count": 51
        },
        {
          "output_type": "display_data",
          "data": {
            "text/plain": [
              "<Figure size 5040x504 with 1 Axes>"
            ],
            "image/png": "[encoded data removed]"
          },
          "metadata": {
            "needs_background": "light"
          }
        }
      ]
    },
    {
      "cell_type": "markdown",
      "source": [
        "From the data exploration above, it can be seen that the sensors gives close values for the positions: Back, Left and Right laying (Without alert).\n",
        "Let's try to \"merge\" them into one label:"
      ],
      "metadata": {
        "id": "u7WOYVkvGfGG"
      }
    },
    {
      "cell_type": "code",
      "source": [
        "a,b,c,d,e,f = 0,0,0,0,0,0\n",
        "for i in range(len(y_test_pred)):\n",
        "    if y_test_sequence[i] == 3:\n",
        "        if y_test_pred[i] == 3:\n",
        "            a += 1\n",
        "        b += 1\n",
        "\n",
        "    if y_test_sequence[i] == 4:\n",
        "        if y_test_pred[i] == 4:\n",
        "            c += 1\n",
        "        d += 1\n",
        "\n",
        "    if y_test_sequence[i] in [0,1,2]:\n",
        "        if y_test_pred[i] in [0,1,2]:\n",
        "            e += 1\n",
        "        f += 1\n",
        "        \n",
        "print(a/b, c/d, e/f)"
      ],
      "metadata": {
        "colab": {
          "base_uri": "https://localhost:8080/"
        },
        "id": "6z9EM9X7ISi2",
        "outputId": "fe3f3437-705d-48c2-9660-d3ceb787b576"
      },
      "execution_count": 52,
      "outputs": [
        {
          "output_type": "stream",
          "name": "stdout",
          "text": [
            "0.8571428571428571 0.875 1.0\n"
          ]
        }
      ]
    },
    {
      "cell_type": "markdown",
      "source": [
        "Amazing Results!"
      ],
      "metadata": {
        "id": "O4x15cN0GBTE"
      }
    },
    {
      "cell_type": "markdown",
      "source": [
        "#### Recurrent Neural Network"
      ],
      "metadata": {
        "id": "gsKIxcXr8udO"
      }
    },
    {
      "cell_type": "code",
      "source": [
        "model = Sequential()\n",
        "model.add(LSTM(units=32, input_shape=(SEQ_LEN, len(all_features)), activation=\"relu\"))\n",
        "model.add(Dense(32, activation = 'relu'))\n",
        "model.add(Dropout(0.3))\n",
        "model.add(Dense(5, activation='softmax'))\n",
        "model.compile(optimizer='adam',\n",
        "              loss=tf.keras.losses.SparseCategoricalCrossentropy(from_logits=True),\n",
        "              metrics=['accuracy'])\n",
        "\n",
        "#model.summary()"
      ],
      "metadata": {
        "id": "N-1SK6Os9EAv"
      },
      "execution_count": 53,
      "outputs": []
    },
    {
      "cell_type": "markdown",
      "source": [
        "Let's train our LSTM RNN:"
      ],
      "metadata": {
        "id": "lW9wAKUaG9pB"
      }
    },
    {
      "cell_type": "code",
      "source": [
        "model.fit(X_train_sequence, y_train_sequence, batch_size=8, epochs=32)"
      ],
      "metadata": {
        "colab": {
          "base_uri": "https://localhost:8080/"
        },
        "id": "HytsVWlT-iel",
        "outputId": "e77fc6f8-593f-4789-be43-8893b0bdab5e"
      },
      "execution_count": 54,
      "outputs": [
        {
          "output_type": "stream",
          "name": "stdout",
          "text": [
            "Epoch 1/32\n"
          ]
        },
        {
          "output_type": "stream",
          "name": "stderr",
          "text": [
            "/usr/local/lib/python3.8/dist-packages/tensorflow/python/util/dispatch.py:1082: UserWarning: \"`sparse_categorical_crossentropy` received `from_logits=True`, but the `output` argument was produced by a sigmoid or softmax activation and thus does not represent logits. Was this intended?\"\n",
            "  return dispatch_target(*args, **kwargs)\n"
          ]
        },
        {
          "output_type": "stream",
          "name": "stdout",
          "text": [
            "160/160 [==============================] - 2s 4ms/step - loss: 1.0560 - accuracy: 0.6036\n",
            "Epoch 2/32\n",
            "160/160 [==============================] - 1s 4ms/step - loss: 0.5851 - accuracy: 0.7756\n",
            "Epoch 3/32\n",
            "160/160 [==============================] - 1s 6ms/step - loss: 0.5057 - accuracy: 0.8045\n",
            "Epoch 4/32\n",
            "160/160 [==============================] - 1s 6ms/step - loss: 0.4315 - accuracy: 0.8319\n",
            "Epoch 5/32\n",
            "160/160 [==============================] - 1s 9ms/step - loss: 0.3648 - accuracy: 0.8499\n",
            "Epoch 6/32\n",
            "160/160 [==============================] - 1s 7ms/step - loss: 0.3328 - accuracy: 0.8608\n",
            "Epoch 7/32\n",
            "160/160 [==============================] - 1s 5ms/step - loss: 0.2929 - accuracy: 0.8921\n",
            "Epoch 8/32\n",
            "160/160 [==============================] - 1s 6ms/step - loss: 0.2664 - accuracy: 0.9015\n",
            "Epoch 9/32\n",
            "160/160 [==============================] - 1s 5ms/step - loss: 0.2401 - accuracy: 0.9085\n",
            "Epoch 10/32\n",
            "160/160 [==============================] - 1s 5ms/step - loss: 0.2184 - accuracy: 0.9203\n",
            "Epoch 11/32\n",
            "160/160 [==============================] - 1s 4ms/step - loss: 0.2030 - accuracy: 0.9171\n",
            "Epoch 12/32\n",
            "160/160 [==============================] - 1s 6ms/step - loss: 0.2017 - accuracy: 0.9148\n",
            "Epoch 13/32\n",
            "160/160 [==============================] - 1s 7ms/step - loss: 0.1830 - accuracy: 0.9257\n",
            "Epoch 14/32\n",
            "160/160 [==============================] - 1s 7ms/step - loss: 0.1789 - accuracy: 0.9242\n",
            "Epoch 15/32\n",
            "160/160 [==============================] - 1s 5ms/step - loss: 0.1516 - accuracy: 0.9375\n",
            "Epoch 16/32\n",
            "160/160 [==============================] - 1s 4ms/step - loss: 0.1613 - accuracy: 0.9289\n",
            "Epoch 17/32\n",
            "160/160 [==============================] - 1s 4ms/step - loss: 0.1520 - accuracy: 0.9382\n",
            "Epoch 18/32\n",
            "160/160 [==============================] - 1s 5ms/step - loss: 0.1468 - accuracy: 0.9453\n",
            "Epoch 19/32\n",
            "160/160 [==============================] - 1s 6ms/step - loss: 0.1377 - accuracy: 0.9468\n",
            "Epoch 20/32\n",
            "160/160 [==============================] - 1s 7ms/step - loss: 0.1474 - accuracy: 0.9437\n",
            "Epoch 21/32\n",
            "160/160 [==============================] - 1s 5ms/step - loss: 0.1185 - accuracy: 0.9578\n",
            "Epoch 22/32\n",
            "160/160 [==============================] - 1s 4ms/step - loss: 0.1300 - accuracy: 0.9398\n",
            "Epoch 23/32\n",
            "160/160 [==============================] - 1s 4ms/step - loss: 0.1353 - accuracy: 0.9523\n",
            "Epoch 24/32\n",
            "160/160 [==============================] - 1s 4ms/step - loss: 0.1229 - accuracy: 0.9593\n",
            "Epoch 25/32\n",
            "160/160 [==============================] - 1s 4ms/step - loss: 0.1200 - accuracy: 0.9492\n",
            "Epoch 26/32\n",
            "160/160 [==============================] - 1s 4ms/step - loss: 0.1061 - accuracy: 0.9601\n",
            "Epoch 27/32\n",
            "160/160 [==============================] - 1s 4ms/step - loss: 0.1029 - accuracy: 0.9593\n",
            "Epoch 28/32\n",
            "160/160 [==============================] - 1s 4ms/step - loss: 0.1158 - accuracy: 0.9562\n",
            "Epoch 29/32\n",
            "160/160 [==============================] - 1s 4ms/step - loss: 0.1170 - accuracy: 0.9562\n",
            "Epoch 30/32\n",
            "160/160 [==============================] - 1s 4ms/step - loss: 0.1018 - accuracy: 0.9625\n",
            "Epoch 31/32\n",
            "160/160 [==============================] - 1s 4ms/step - loss: 0.1073 - accuracy: 0.9547\n",
            "Epoch 32/32\n",
            "160/160 [==============================] - 1s 4ms/step - loss: 0.1076 - accuracy: 0.9625\n"
          ]
        },
        {
          "output_type": "execute_result",
          "data": {
            "text/plain": [
              "<keras.callbacks.History at 0x7f27a2d1fd90>"
            ]
          },
          "metadata": {},
          "execution_count": 54
        }
      ]
    },
    {
      "cell_type": "markdown",
      "source": [
        "Let's test out RNN:"
      ],
      "metadata": {
        "id": "ym_pFxijHEmQ"
      }
    },
    {
      "cell_type": "code",
      "source": [
        "probability_model = tf.keras.Sequential([model, tf.keras.layers.Softmax()])\n",
        "\n",
        "y_train_pred = probability_model.predict(X_train_sequence)\n",
        "y_train_pred = [np.argmax(i) for i in y_train_pred]\n",
        "\n",
        "y_test_pred = probability_model.predict(X_test_sequence)\n",
        "y_test_pred =  [np.argmax(i) for i in y_test_pred]\n",
        "\n",
        "trainAcc = np.sum(y_train_pred == y_train_sequence) * 100 / len(y_train_sequence)\n",
        "testAcc = np.sum(y_test_pred == y_test_sequence) * 100 / len(y_test_sequence)\n",
        "\n",
        "print(\"Train Accuracy: {:.1f}%, Test Accuracy: {:.1f}%\".format(trainAcc, testAcc))"
      ],
      "metadata": {
        "colab": {
          "base_uri": "https://localhost:8080/"
        },
        "id": "Yu0BON339e4h",
        "outputId": "d1acbf44-39fe-4bbc-87b6-9c939859e33b"
      },
      "execution_count": 55,
      "outputs": [
        {
          "output_type": "stream",
          "name": "stdout",
          "text": [
            "40/40 [==============================] - 0s 2ms/step\n",
            "10/10 [==============================] - 0s 2ms/step\n",
            "Train Accuracy: 96.0%, Test Accuracy: 78.7%\n"
          ]
        }
      ]
    },
    {
      "cell_type": "markdown",
      "source": [
        "Slightly better than the CNN. but still - could be better..."
      ],
      "metadata": {
        "id": "QXnPw-ZzHMMf"
      }
    },
    {
      "cell_type": "markdown",
      "source": [
        "#### Random Forest"
      ],
      "metadata": {
        "id": "veCRuGrz8yGb"
      }
    },
    {
      "cell_type": "markdown",
      "source": [
        "Let's try Random Forest too, as an eample of non sequential model:"
      ],
      "metadata": {
        "id": "_1yLrqehHWUm"
      }
    },
    {
      "cell_type": "code",
      "source": [
        "h = RandomForestClassifier(n_estimators=100, max_leaf_nodes=12)\n",
        "h.fit(X_train, y_train)\n",
        "\n",
        "trainAcc = np.sum(h.predict(X_train) == y_train) * 100 / len(y_train)\n",
        "testAcc = np.sum(h.predict(X_test) == y_test) * 100 / len(y_test)\n",
        "\n",
        "print(\"Train Accuracy: {:.1f}%, Test Accuracy: {:.1f}%\".format(trainAcc, testAcc))"
      ],
      "metadata": {
        "colab": {
          "base_uri": "https://localhost:8080/"
        },
        "id": "31VGABOunucx",
        "outputId": "3fdd6072-b1d7-4c2a-f907-e1146f04293e"
      },
      "execution_count": 29,
      "outputs": [
        {
          "output_type": "stream",
          "name": "stdout",
          "text": [
            "Train Accuracy: 92.3%, Test Accuracy: 75.6%\n"
          ]
        }
      ]
    },
    {
      "cell_type": "markdown",
      "source": [
        "Same problem as the above models... need new approach!"
      ],
      "metadata": {
        "id": "C-FFMDR6HkQe"
      }
    },
    {
      "cell_type": "markdown",
      "source": [
        "### Second Take"
      ],
      "metadata": {
        "id": "bdyx44AkJAAx"
      }
    },
    {
      "cell_type": "markdown",
      "source": [
        "Lets use the conclusion from the First Take of the modeling, and merge the non-alarm labels:"
      ],
      "metadata": {
        "id": "0Rl7xZ2tJSeD"
      }
    },
    {
      "cell_type": "code",
      "source": [
        "class data_preparation():\n",
        "\n",
        "  def __init__(self, training_data, new_data):\n",
        "    self.new_dataset = new_data.copy()\n",
        "    self.training_data_ref = training_data.copy()\n",
        "\n",
        "    self.__remove_ids(self.training_data_ref)\n",
        "    self.__merge_labels(self.training_data_ref)\n",
        "\n",
        "  def __merge_labels(self, dataset):\n",
        "      dataset.loc[dataset['Label'] == 0, 'Label'] = 0\n",
        "      dataset.loc[dataset['Label'] == 1, 'Label'] = 0\n",
        "      dataset.loc[dataset['Label'] == 2, 'Label'] = 0\n",
        "      dataset.loc[dataset['Label'] == 3, 'Label'] = 1\n",
        "      dataset.loc[dataset['Label'] == 4, 'Label'] = 2\n",
        "\n",
        "  def __remove_ids(self, dataset):\n",
        "      dataset.drop(columns=dataset.columns[0], axis=1,  inplace=True)\n",
        "      dataset.drop(\"Weight\", axis=1,  inplace=True)\n",
        "      dataset.drop(\"Height\", axis=1,  inplace=True)\n",
        "      \n",
        "\n",
        "  def __normalize(self):\n",
        "    all_features = list(self.training_data_ref.columns)\n",
        "    all_features.remove('Label')\n",
        "\n",
        "    \n",
        "    for feature in all_features:\n",
        "        std_scaler = StandardScaler()\n",
        "        std_scaler.fit(self.training_data_ref[[feature]])\n",
        "\n",
        "        self.new_dataset[[feature]] = std_scaler.transform(self.new_dataset[[feature]])\n",
        "    \n",
        "    return self.new_dataset\n",
        "\n",
        "\n",
        "  def prepare(self):\n",
        "    self.__merge_labels(self.new_dataset)\n",
        "    self.__remove_ids(self.new_dataset)\n",
        "    self.__normalize()\n",
        "\n",
        "    return self.new_dataset\n",
        "\n",
        "def preprare_data(training_data, new_data):\n",
        "  data_prep = data_preparation(training_data, new_data)\n",
        "  return data_prep.prepare()"
      ],
      "metadata": {
        "id": "zlIJDs20Jf4m"
      },
      "execution_count": 56,
      "outputs": []
    },
    {
      "cell_type": "code",
      "source": [
        "prep_train = preprare_data(train, train)\n",
        "prep_test = preprare_data(train, test)\n",
        "\n",
        "all_features = list(prep_train.columns)\n",
        "all_features.remove('Label')\n",
        "\n",
        "X_train = prep_train.loc[:,all_features]\n",
        "y_train = prep_train[\"Label\"]\n",
        "\n",
        "X_test = prep_test.loc[:,all_features]\n",
        "y_test = prep_test[\"Label\"]\n",
        "\n",
        "X_train_sequence, y_train_sequence = get_time_series_df(prep_train.loc[:,all_features].values, prep_train.Label.values)\n",
        "X_test_sequence, y_test_sequence = get_time_series_df(prep_test.loc[:,all_features].values, prep_test.Label.values)"
      ],
      "metadata": {
        "id": "O9PVogfG-b-D"
      },
      "execution_count": 57,
      "outputs": []
    },
    {
      "cell_type": "markdown",
      "source": [
        "#### Convolutional Neural Network"
      ],
      "metadata": {
        "id": "mrMTE3pcKXzn"
      }
    },
    {
      "cell_type": "code",
      "source": [
        "model = Sequential()\n",
        "model.add(Input((SEQ_LEN, len(all_features), )))\n",
        "model.add(Conv1D(filters=64, kernel_size=3, padding=\"same\"))\n",
        "model.add(BatchNormalization())\n",
        "model.add(Conv1D(filters=32, kernel_size=3, padding=\"same\"))\n",
        "model.add(BatchNormalization())\n",
        "model.add(Conv1D(filters=32, kernel_size=3, padding=\"same\"))\n",
        "model.add(Flatten())\n",
        "model.add(Dense(16, activation='relu'))\n",
        "model.add(Dense(3))\n",
        "\n",
        "model.compile(optimizer='adam',\n",
        "              loss=tf.keras.losses.SparseCategoricalCrossentropy(from_logits=True),\n",
        "              metrics=['accuracy'])\n",
        "\n",
        "# model.summary()\n",
        "model.fit(X_train_sequence, y_train_sequence, batch_size=8, epochs=24)\n",
        "\n",
        "probability_model = tf.keras.Sequential([model, tf.keras.layers.Softmax()])\n",
        "\n",
        "y_train_pred = probability_model.predict(X_train_sequence)\n",
        "y_train_pred = [np.argmax(i) for i in y_train_pred]\n",
        "\n",
        "y_test_pred = probability_model.predict(X_test_sequence)\n",
        "y_test_pred =  [np.argmax(i) for i in y_test_pred]\n",
        "\n",
        "trainAcc = np.sum(y_train_pred == y_train_sequence) * 100 / len(y_train_sequence)\n",
        "testAcc = np.sum(y_test_pred == y_test_sequence) * 100 / len(y_test_sequence)\n",
        "\n",
        "print(\"Train Accuracy: {:.1f}%, Test Accuracy: {:.1f}%\".format(trainAcc, testAcc))"
      ],
      "metadata": {
        "colab": {
          "base_uri": "https://localhost:8080/"
        },
        "id": "TEe3IhUpKcdu",
        "outputId": "0406b5c0-0828-4eaa-e0bc-fc263b40024a"
      },
      "execution_count": 87,
      "outputs": [
        {
          "output_type": "stream",
          "name": "stdout",
          "text": [
            "Epoch 1/24\n",
            "160/160 [==============================] - 2s 4ms/step - loss: 0.3746 - accuracy: 0.8507\n",
            "Epoch 2/24\n",
            "160/160 [==============================] - 1s 8ms/step - loss: 0.2727 - accuracy: 0.8882\n",
            "Epoch 3/24\n",
            "160/160 [==============================] - 1s 8ms/step - loss: 0.2275 - accuracy: 0.9101\n",
            "Epoch 4/24\n",
            "160/160 [==============================] - 1s 9ms/step - loss: 0.2148 - accuracy: 0.9203\n",
            "Epoch 5/24\n",
            "160/160 [==============================] - 1s 7ms/step - loss: 0.2068 - accuracy: 0.9179\n",
            "Epoch 6/24\n",
            "160/160 [==============================] - 1s 3ms/step - loss: 0.1907 - accuracy: 0.9265\n",
            "Epoch 7/24\n",
            "160/160 [==============================] - 1s 3ms/step - loss: 0.1687 - accuracy: 0.9351\n",
            "Epoch 8/24\n",
            "160/160 [==============================] - 1s 3ms/step - loss: 0.1666 - accuracy: 0.9304\n",
            "Epoch 9/24\n",
            "160/160 [==============================] - 1s 4ms/step - loss: 0.1585 - accuracy: 0.9421\n",
            "Epoch 10/24\n",
            "160/160 [==============================] - 1s 4ms/step - loss: 0.1415 - accuracy: 0.9461\n",
            "Epoch 11/24\n",
            "160/160 [==============================] - 1s 3ms/step - loss: 0.1454 - accuracy: 0.9421\n",
            "Epoch 12/24\n",
            "160/160 [==============================] - 1s 3ms/step - loss: 0.1349 - accuracy: 0.9461\n",
            "Epoch 13/24\n",
            "160/160 [==============================] - 1s 3ms/step - loss: 0.1321 - accuracy: 0.9507\n",
            "Epoch 14/24\n",
            "160/160 [==============================] - 1s 3ms/step - loss: 0.1217 - accuracy: 0.9484\n",
            "Epoch 15/24\n",
            "160/160 [==============================] - 1s 3ms/step - loss: 0.1236 - accuracy: 0.9507\n",
            "Epoch 16/24\n",
            "160/160 [==============================] - 1s 3ms/step - loss: 0.1271 - accuracy: 0.9515\n",
            "Epoch 17/24\n",
            "160/160 [==============================] - 1s 4ms/step - loss: 0.1106 - accuracy: 0.9523\n",
            "Epoch 18/24\n",
            "160/160 [==============================] - 1s 4ms/step - loss: 0.1000 - accuracy: 0.9625\n",
            "Epoch 19/24\n",
            "160/160 [==============================] - 1s 4ms/step - loss: 0.1011 - accuracy: 0.9601\n",
            "Epoch 20/24\n",
            "160/160 [==============================] - 1s 3ms/step - loss: 0.0942 - accuracy: 0.9648\n",
            "Epoch 21/24\n",
            "160/160 [==============================] - 1s 3ms/step - loss: 0.1011 - accuracy: 0.9601\n",
            "Epoch 22/24\n",
            "160/160 [==============================] - 1s 3ms/step - loss: 0.1068 - accuracy: 0.9640\n",
            "Epoch 23/24\n",
            "160/160 [==============================] - 0s 3ms/step - loss: 0.0989 - accuracy: 0.9609\n",
            "Epoch 24/24\n",
            "160/160 [==============================] - 1s 4ms/step - loss: 0.0926 - accuracy: 0.9617\n",
            "40/40 [==============================] - 0s 2ms/step\n",
            "10/10 [==============================] - 0s 2ms/step\n",
            "Train Accuracy: 97.7%, Test Accuracy: 95.3%\n"
          ]
        }
      ]
    },
    {
      "cell_type": "markdown",
      "source": [
        "#### Recurrent Neural Network"
      ],
      "metadata": {
        "id": "BrpSWHmDKui4"
      }
    },
    {
      "cell_type": "code",
      "source": [
        "model = Sequential()\n",
        "model.add(LSTM(units=32, input_shape=(SEQ_LEN, len(all_features)), activation=\"relu\"))\n",
        "model.add(Dense(32, activation = 'relu'))\n",
        "model.add(Dropout(0.3))\n",
        "model.add(Dense(3, activation='softmax'))\n",
        "model.compile(optimizer='adam',\n",
        "              loss=tf.keras.losses.SparseCategoricalCrossentropy(from_logits=True),\n",
        "              metrics=['accuracy'])\n",
        "\n",
        "#model.summary()\n",
        "model.fit(X_train_sequence, y_train_sequence, batch_size=8, epochs=32)\n",
        "\n",
        "probability_model = tf.keras.Sequential([model, tf.keras.layers.Softmax()])\n",
        "\n",
        "y_train_pred = probability_model.predict(X_train_sequence)\n",
        "y_train_pred = [np.argmax(i) for i in y_train_pred]\n",
        "\n",
        "y_test_pred = probability_model.predict(X_test_sequence)\n",
        "y_test_pred =  [np.argmax(i) for i in y_test_pred]\n",
        "\n",
        "trainAcc = np.sum(y_train_pred == y_train_sequence) * 100 / len(y_train_sequence)\n",
        "testAcc = np.sum(y_test_pred == y_test_sequence) * 100 / len(y_test_sequence)\n",
        "\n",
        "print(\"Train Accuracy: {:.1f}%, Test Accuracy: {:.1f}%\".format(trainAcc, testAcc))"
      ],
      "metadata": {
        "colab": {
          "base_uri": "https://localhost:8080/"
        },
        "id": "8fY0r2huKu_4",
        "outputId": "63068e07-1251-4b71-d7d5-6b624cce242d"
      },
      "execution_count": 63,
      "outputs": [
        {
          "output_type": "stream",
          "name": "stdout",
          "text": [
            "Epoch 1/32\n"
          ]
        },
        {
          "output_type": "stream",
          "name": "stderr",
          "text": [
            "/usr/local/lib/python3.8/dist-packages/tensorflow/python/util/dispatch.py:1082: UserWarning: \"`sparse_categorical_crossentropy` received `from_logits=True`, but the `output` argument was produced by a sigmoid or softmax activation and thus does not represent logits. Was this intended?\"\n",
            "  return dispatch_target(*args, **kwargs)\n"
          ]
        },
        {
          "output_type": "stream",
          "name": "stdout",
          "text": [
            "160/160 [==============================] - 2s 4ms/step - loss: 0.5767 - accuracy: 0.8069\n",
            "Epoch 2/32\n",
            "160/160 [==============================] - 1s 4ms/step - loss: 0.3060 - accuracy: 0.8866\n",
            "Epoch 3/32\n",
            "160/160 [==============================] - 1s 4ms/step - loss: 0.2440 - accuracy: 0.9124\n",
            "Epoch 4/32\n",
            "160/160 [==============================] - 1s 4ms/step - loss: 0.2199 - accuracy: 0.9187\n",
            "Epoch 5/32\n",
            "160/160 [==============================] - 1s 4ms/step - loss: 0.1988 - accuracy: 0.9124\n",
            "Epoch 6/32\n",
            "160/160 [==============================] - 1s 4ms/step - loss: 0.2033 - accuracy: 0.9156\n",
            "Epoch 7/32\n",
            "160/160 [==============================] - 1s 4ms/step - loss: 0.1780 - accuracy: 0.9187\n",
            "Epoch 8/32\n",
            "160/160 [==============================] - 1s 4ms/step - loss: 0.1723 - accuracy: 0.9218\n",
            "Epoch 9/32\n",
            "160/160 [==============================] - 1s 4ms/step - loss: 0.1555 - accuracy: 0.9382\n",
            "Epoch 10/32\n",
            "160/160 [==============================] - 1s 4ms/step - loss: 0.1544 - accuracy: 0.9335\n",
            "Epoch 11/32\n",
            "160/160 [==============================] - 1s 4ms/step - loss: 0.1534 - accuracy: 0.9335\n",
            "Epoch 12/32\n",
            "160/160 [==============================] - 1s 4ms/step - loss: 0.1463 - accuracy: 0.9406\n",
            "Epoch 13/32\n",
            "160/160 [==============================] - 1s 4ms/step - loss: 0.1335 - accuracy: 0.9437\n",
            "Epoch 14/32\n",
            "160/160 [==============================] - 1s 4ms/step - loss: 0.1306 - accuracy: 0.9429\n",
            "Epoch 15/32\n",
            "160/160 [==============================] - 1s 4ms/step - loss: 0.1213 - accuracy: 0.9468\n",
            "Epoch 16/32\n",
            "160/160 [==============================] - 1s 4ms/step - loss: 0.1198 - accuracy: 0.9515\n",
            "Epoch 17/32\n",
            "160/160 [==============================] - 1s 6ms/step - loss: 0.1144 - accuracy: 0.9539\n",
            "Epoch 18/32\n",
            "160/160 [==============================] - 1s 7ms/step - loss: 0.1098 - accuracy: 0.9593\n",
            "Epoch 19/32\n",
            "160/160 [==============================] - 1s 8ms/step - loss: 0.1080 - accuracy: 0.9633\n",
            "Epoch 20/32\n",
            "160/160 [==============================] - 1s 4ms/step - loss: 0.0988 - accuracy: 0.9640\n",
            "Epoch 21/32\n",
            "160/160 [==============================] - 1s 4ms/step - loss: 0.0879 - accuracy: 0.9703\n",
            "Epoch 22/32\n",
            "160/160 [==============================] - 1s 4ms/step - loss: 0.0836 - accuracy: 0.9656\n",
            "Epoch 23/32\n",
            "160/160 [==============================] - 1s 4ms/step - loss: 0.0786 - accuracy: 0.9679\n",
            "Epoch 24/32\n",
            "160/160 [==============================] - 1s 4ms/step - loss: 0.0811 - accuracy: 0.9679\n",
            "Epoch 25/32\n",
            "160/160 [==============================] - 1s 4ms/step - loss: 0.0778 - accuracy: 0.9687\n",
            "Epoch 26/32\n",
            "160/160 [==============================] - 1s 4ms/step - loss: 0.0731 - accuracy: 0.9742\n",
            "Epoch 27/32\n",
            "160/160 [==============================] - 1s 4ms/step - loss: 0.0757 - accuracy: 0.9726\n",
            "Epoch 28/32\n",
            "160/160 [==============================] - 1s 4ms/step - loss: 0.0716 - accuracy: 0.9734\n",
            "Epoch 29/32\n",
            "160/160 [==============================] - 1s 4ms/step - loss: 0.0683 - accuracy: 0.9781\n",
            "Epoch 30/32\n",
            "160/160 [==============================] - 1s 4ms/step - loss: 0.0710 - accuracy: 0.9734\n",
            "Epoch 31/32\n",
            "160/160 [==============================] - 1s 4ms/step - loss: 0.0866 - accuracy: 0.9719\n",
            "Epoch 32/32\n",
            "160/160 [==============================] - 1s 4ms/step - loss: 0.0643 - accuracy: 0.9765\n",
            "40/40 [==============================] - 0s 2ms/step\n",
            "10/10 [==============================] - 0s 2ms/step\n",
            "Train Accuracy: 98.4%, Test Accuracy: 96.6%\n"
          ]
        }
      ]
    },
    {
      "cell_type": "markdown",
      "source": [
        "#### Random Forest"
      ],
      "metadata": {
        "id": "mDXAInSDKvg_"
      }
    },
    {
      "cell_type": "code",
      "source": [
        "h = RandomForestClassifier(n_estimators=100, max_leaf_nodes=12)\n",
        "h.fit(X_train, y_train)\n",
        "\n",
        "trainAcc = np.sum(h.predict(X_train) == y_train) * 100 / len(y_train)\n",
        "testAcc = np.sum(h.predict(X_test) == y_test) * 100 / len(y_test)\n",
        "\n",
        "print(\"Train Accuracy: {:.1f}%, Test Accuracy: {:.1f}%\".format(trainAcc, testAcc))"
      ],
      "metadata": {
        "colab": {
          "base_uri": "https://localhost:8080/"
        },
        "id": "y3zvkMNOKv4-",
        "outputId": "5f74cecb-6210-43a3-d705-9703dd9eb4d2"
      },
      "execution_count": 66,
      "outputs": [
        {
          "output_type": "stream",
          "name": "stdout",
          "text": [
            "Train Accuracy: 94.6%, Test Accuracy: 96.2%\n"
          ]
        }
      ]
    },
    {
      "cell_type": "markdown",
      "source": [
        "### Conclusion\n",
        "Let's compare the results:\n",
        "<br>\n",
        "CNN:\n",
        "Train Accuracy: 95.8%, Test Accuracy: 96.9%\n",
        "\n",
        "RNN:\n",
        "Train Accuracy: 98.4%, Test Accuracy: 96.6%\n",
        "\n",
        "RF:\n",
        "Train Accuracy: 94.6%, Test Accuracy: 96.2%\n",
        "<br>\n",
        "As we suspected, the CNN gives the best predictions!"
      ],
      "metadata": {
        "id": "LGdw3-sVOMdk"
      }
    },
    {
      "cell_type": "markdown",
      "source": [
        "## Store the Model"
      ],
      "metadata": {
        "id": "L5YoE10oP0wW"
      }
    },
    {
      "cell_type": "code",
      "source": [
        "model = Sequential()\n",
        "model.add(Input((SEQ_LEN, len(all_features), )))\n",
        "model.add(Conv1D(filters=64, kernel_size=3, padding=\"same\"))\n",
        "model.add(BatchNormalization())\n",
        "model.add(Conv1D(filters=32, kernel_size=3, padding=\"same\"))\n",
        "model.add(BatchNormalization())\n",
        "model.add(Conv1D(filters=32, kernel_size=3, padding=\"same\"))\n",
        "model.add(Flatten())\n",
        "model.add(Dense(16, activation='relu'))\n",
        "model.add(Dense(3))\n",
        "\n",
        "model.compile(optimizer='adam',\n",
        "              loss=tf.keras.losses.SparseCategoricalCrossentropy(from_logits=True),\n",
        "              metrics=['accuracy'])\n",
        "\n",
        "# model.summary()\n",
        "model.fit(X_train_sequence, y_train_sequence, batch_size=8, epochs=24)\n",
        "\n",
        "probability_model = tf.keras.Sequential([model, tf.keras.layers.Softmax()])\n",
        "\n",
        "y_train_pred = probability_model.predict(X_train_sequence)\n",
        "y_train_pred = [np.argmax(i) for i in y_train_pred]\n",
        "\n",
        "y_test_pred = probability_model.predict(X_test_sequence)\n",
        "y_test_pred =  [np.argmax(i) for i in y_test_pred]\n",
        "\n",
        "trainAcc = np.sum(y_train_pred == y_train_sequence) * 100 / len(y_train_sequence)\n",
        "testAcc = np.sum(y_test_pred == y_test_sequence) * 100 / len(y_test_sequence)\n",
        "\n",
        "print(\"Train Accuracy: {:.1f}%, Test Accuracy: {:.1f}%\".format(trainAcc, testAcc))"
      ],
      "metadata": {
        "colab": {
          "base_uri": "https://localhost:8080/"
        },
        "id": "E6gnoXp0P0YD",
        "outputId": "afe97ab7-b4e9-4347-b116-d892bd15ada0"
      },
      "execution_count": 102,
      "outputs": [
        {
          "output_type": "stream",
          "name": "stdout",
          "text": [
            "Epoch 1/24\n",
            "160/160 [==============================] - 3s 6ms/step - loss: 0.4318 - accuracy: 0.8327\n",
            "Epoch 2/24\n",
            "160/160 [==============================] - 1s 3ms/step - loss: 0.2855 - accuracy: 0.8898\n",
            "Epoch 3/24\n",
            "160/160 [==============================] - 1s 3ms/step - loss: 0.2194 - accuracy: 0.9101\n",
            "Epoch 4/24\n",
            "160/160 [==============================] - 1s 3ms/step - loss: 0.2070 - accuracy: 0.9085\n",
            "Epoch 5/24\n",
            "160/160 [==============================] - 1s 3ms/step - loss: 0.1884 - accuracy: 0.9148\n",
            "Epoch 6/24\n",
            "160/160 [==============================] - 1s 3ms/step - loss: 0.1771 - accuracy: 0.9234\n",
            "Epoch 7/24\n",
            "160/160 [==============================] - 1s 3ms/step - loss: 0.1846 - accuracy: 0.9273\n",
            "Epoch 8/24\n",
            "160/160 [==============================] - 1s 3ms/step - loss: 0.1475 - accuracy: 0.9445\n",
            "Epoch 9/24\n",
            "160/160 [==============================] - 1s 3ms/step - loss: 0.1518 - accuracy: 0.9398\n",
            "Epoch 10/24\n",
            "160/160 [==============================] - 1s 3ms/step - loss: 0.1405 - accuracy: 0.9461\n",
            "Epoch 11/24\n",
            "160/160 [==============================] - 1s 3ms/step - loss: 0.1337 - accuracy: 0.9492\n",
            "Epoch 12/24\n",
            "160/160 [==============================] - 0s 3ms/step - loss: 0.1415 - accuracy: 0.9421\n",
            "Epoch 13/24\n",
            "160/160 [==============================] - 0s 3ms/step - loss: 0.1176 - accuracy: 0.9586\n",
            "Epoch 14/24\n",
            "160/160 [==============================] - 1s 3ms/step - loss: 0.1260 - accuracy: 0.9476\n",
            "Epoch 15/24\n",
            "160/160 [==============================] - 0s 3ms/step - loss: 0.1267 - accuracy: 0.9523\n",
            "Epoch 16/24\n",
            "160/160 [==============================] - 1s 3ms/step - loss: 0.1265 - accuracy: 0.9500\n",
            "Epoch 17/24\n",
            "160/160 [==============================] - 0s 3ms/step - loss: 0.1168 - accuracy: 0.9523\n",
            "Epoch 18/24\n",
            "160/160 [==============================] - 1s 3ms/step - loss: 0.0956 - accuracy: 0.9656\n",
            "Epoch 19/24\n",
            "160/160 [==============================] - 0s 3ms/step - loss: 0.1071 - accuracy: 0.9664\n",
            "Epoch 20/24\n",
            "160/160 [==============================] - 0s 3ms/step - loss: 0.0927 - accuracy: 0.9640\n",
            "Epoch 21/24\n",
            "160/160 [==============================] - 0s 3ms/step - loss: 0.0985 - accuracy: 0.9633\n",
            "Epoch 22/24\n",
            "160/160 [==============================] - 1s 3ms/step - loss: 0.0918 - accuracy: 0.9633\n",
            "Epoch 23/24\n",
            "160/160 [==============================] - 0s 3ms/step - loss: 0.0962 - accuracy: 0.9617\n",
            "Epoch 24/24\n",
            "160/160 [==============================] - 1s 3ms/step - loss: 0.0981 - accuracy: 0.9586\n",
            "40/40 [==============================] - 0s 2ms/step\n",
            "10/10 [==============================] - 0s 2ms/step\n",
            "Train Accuracy: 98.4%, Test Accuracy: 93.7%\n"
          ]
        }
      ]
    },
    {
      "cell_type": "code",
      "source": [
        "model.save(\"fp_model.h5\")"
      ],
      "metadata": {
        "id": "yrifdOqcQ8NS"
      },
      "execution_count": 103,
      "outputs": []
    },
    {
      "cell_type": "markdown",
      "source": [
        "Download the model:"
      ],
      "metadata": {
        "id": "XVujysZoRMtm"
      }
    },
    {
      "cell_type": "code",
      "source": [
        "files.download('fp_model.h5') "
      ],
      "metadata": {
        "colab": {
          "base_uri": "https://localhost:8080/",
          "height": 17
        },
        "id": "QpkLxiMLRWmy",
        "outputId": "acfdc872-f88a-43ea-8b5a-c81adb55776b"
      },
      "execution_count": 104,
      "outputs": [
        {
          "output_type": "display_data",
          "data": {
            "text/plain": [
              "<IPython.core.display.Javascript object>"
            ],
            "application/javascript": [
              "\n",
              "    async function download(id, filename, size) {\n",
              "      if (!google.colab.kernel.accessAllowed) {\n",
              "        return;\n",
              "      }\n",
              "      const div = document.createElement('div');\n",
              "      const label = document.createElement('label');\n",
              "      label.textContent = `Downloading \"${filename}\": `;\n",
              "      div.appendChild(label);\n",
              "      const progress = document.createElement('progress');\n",
              "      progress.max = size;\n",
              "      div.appendChild(progress);\n",
              "      document.body.appendChild(div);\n",
              "\n",
              "      const buffers = [];\n",
              "      let downloaded = 0;\n",
              "\n",
              "      const channel = await google.colab.kernel.comms.open(id);\n",
              "      // Send a message to notify the kernel that we're ready.\n",
              "      channel.send({})\n",
              "\n",
              "      for await (const message of channel.messages) {\n",
              "        // Send a message to notify the kernel that we're ready.\n",
              "        channel.send({})\n",
              "        if (message.buffers) {\n",
              "          for (const buffer of message.buffers) {\n",
              "            buffers.push(buffer);\n",
              "            downloaded += buffer.byteLength;\n",
              "            progress.value = downloaded;\n",
              "          }\n",
              "        }\n",
              "      }\n",
              "      const blob = new Blob(buffers, {type: 'application/binary'});\n",
              "      const a = document.createElement('a');\n",
              "      a.href = window.URL.createObjectURL(blob);\n",
              "      a.download = filename;\n",
              "      div.appendChild(a);\n",
              "      a.click();\n",
              "      div.remove();\n",
              "    }\n",
              "  "
            ]
          },
          "metadata": {}
        },
        {
          "output_type": "display_data",
          "data": {
            "text/plain": [
              "<IPython.core.display.Javascript object>"
            ],
            "application/javascript": [
              "download(\"download_8b407a97-ff3a-4ca1-8b28-49231299f8a5\", \"fp_model.h5\", 225680)"
            ]
          },
          "metadata": {}
        }
      ]
    },
    {
      "cell_type": "markdown",
      "source": [
        "Little sanity check:"
      ],
      "metadata": {
        "id": "f8jUZOvKRtYJ"
      }
    },
    {
      "cell_type": "code",
      "source": [
        "uploadedData = files.upload()\n",
        "model_name = list(uploadedData)[0]\n",
        "\n",
        "loaded_model = tf.keras.models.load_model(model_name)"
      ],
      "metadata": {
        "colab": {
          "base_uri": "https://localhost:8080/",
          "height": 74
        },
        "id": "euo20y3nRxP2",
        "outputId": "798a9ad5-e458-4aad-ee6e-55d1c5c5e2f8"
      },
      "execution_count": 105,
      "outputs": [
        {
          "output_type": "display_data",
          "data": {
            "text/plain": [
              "<IPython.core.display.HTML object>"
            ],
            "text/html": [
              "\n",
              "     <input type=\"file\" id=\"files-5e75414b-4d93-4dba-849b-e43df9a29839\" name=\"files[]\" multiple disabled\n",
              "        style=\"border:none\" />\n",
              "     <output id=\"result-5e75414b-4d93-4dba-849b-e43df9a29839\">\n",
              "      Upload widget is only available when the cell has been executed in the\n",
              "      current browser session. Please rerun this cell to enable.\n",
              "      </output>\n",
              "      <script>// Copyright 2017 Google LLC\n",
              "//\n",
              "// Licensed under the Apache License, Version 2.0 (the \"License\");\n",
              "// you may not use this file except in compliance with the License.\n",
              "// You may obtain a copy of the License at\n",
              "//\n",
              "//      http://www.apache.org/licenses/LICENSE-2.0\n",
              "//\n",
              "// Unless required by applicable law or agreed to in writing, software\n",
              "// distributed under the License is distributed on an \"AS IS\" BASIS,\n",
              "// WITHOUT WARRANTIES OR CONDITIONS OF ANY KIND, either express or implied.\n",
              "// See the License for the specific language governing permissions and\n",
              "// limitations under the License.\n",
              "\n",
              "/**\n",
              " * @fileoverview Helpers for google.colab Python module.\n",
              " */\n",
              "(function(scope) {\n",
              "function span(text, styleAttributes = {}) {\n",
              "  const element = document.createElement('span');\n",
              "  element.textContent = text;\n",
              "  for (const key of Object.keys(styleAttributes)) {\n",
              "    element.style[key] = styleAttributes[key];\n",
              "  }\n",
              "  return element;\n",
              "}\n",
              "\n",
              "// Max number of bytes which will be uploaded at a time.\n",
              "const MAX_PAYLOAD_SIZE = 100 * 1024;\n",
              "\n",
              "function _uploadFiles(inputId, outputId) {\n",
              "  const steps = uploadFilesStep(inputId, outputId);\n",
              "  const outputElement = document.getElementById(outputId);\n",
              "  // Cache steps on the outputElement to make it available for the next call\n",
              "  // to uploadFilesContinue from Python.\n",
              "  outputElement.steps = steps;\n",
              "\n",
              "  return _uploadFilesContinue(outputId);\n",
              "}\n",
              "\n",
              "// This is roughly an async generator (not supported in the browser yet),\n",
              "// where there are multiple asynchronous steps and the Python side is going\n",
              "// to poll for completion of each step.\n",
              "// This uses a Promise to block the python side on completion of each step,\n",
              "// then passes the result of the previous step as the input to the next step.\n",
              "function _uploadFilesContinue(outputId) {\n",
              "  const outputElement = document.getElementById(outputId);\n",
              "  const steps = outputElement.steps;\n",
              "\n",
              "  const next = steps.next(outputElement.lastPromiseValue);\n",
              "  return Promise.resolve(next.value.promise).then((value) => {\n",
              "    // Cache the last promise value to make it available to the next\n",
              "    // step of the generator.\n",
              "    outputElement.lastPromiseValue = value;\n",
              "    return next.value.response;\n",
              "  });\n",
              "}\n",
              "\n",
              "/**\n",
              " * Generator function which is called between each async step of the upload\n",
              " * process.\n",
              " * @param {string} inputId Element ID of the input file picker element.\n",
              " * @param {string} outputId Element ID of the output display.\n",
              " * @return {!Iterable<!Object>} Iterable of next steps.\n",
              " */\n",
              "function* uploadFilesStep(inputId, outputId) {\n",
              "  const inputElement = document.getElementById(inputId);\n",
              "  inputElement.disabled = false;\n",
              "\n",
              "  const outputElement = document.getElementById(outputId);\n",
              "  outputElement.innerHTML = '';\n",
              "\n",
              "  const pickedPromise = new Promise((resolve) => {\n",
              "    inputElement.addEventListener('change', (e) => {\n",
              "      resolve(e.target.files);\n",
              "    });\n",
              "  });\n",
              "\n",
              "  const cancel = document.createElement('button');\n",
              "  inputElement.parentElement.appendChild(cancel);\n",
              "  cancel.textContent = 'Cancel upload';\n",
              "  const cancelPromise = new Promise((resolve) => {\n",
              "    cancel.onclick = () => {\n",
              "      resolve(null);\n",
              "    };\n",
              "  });\n",
              "\n",
              "  // Wait for the user to pick the files.\n",
              "  const files = yield {\n",
              "    promise: Promise.race([pickedPromise, cancelPromise]),\n",
              "    response: {\n",
              "      action: 'starting',\n",
              "    }\n",
              "  };\n",
              "\n",
              "  cancel.remove();\n",
              "\n",
              "  // Disable the input element since further picks are not allowed.\n",
              "  inputElement.disabled = true;\n",
              "\n",
              "  if (!files) {\n",
              "    return {\n",
              "      response: {\n",
              "        action: 'complete',\n",
              "      }\n",
              "    };\n",
              "  }\n",
              "\n",
              "  for (const file of files) {\n",
              "    const li = document.createElement('li');\n",
              "    li.append(span(file.name, {fontWeight: 'bold'}));\n",
              "    li.append(span(\n",
              "        `(${file.type || 'n/a'}) - ${file.size} bytes, ` +\n",
              "        `last modified: ${\n",
              "            file.lastModifiedDate ? file.lastModifiedDate.toLocaleDateString() :\n",
              "                                    'n/a'} - `));\n",
              "    const percent = span('0% done');\n",
              "    li.appendChild(percent);\n",
              "\n",
              "    outputElement.appendChild(li);\n",
              "\n",
              "    const fileDataPromise = new Promise((resolve) => {\n",
              "      const reader = new FileReader();\n",
              "      reader.onload = (e) => {\n",
              "        resolve(e.target.result);\n",
              "      };\n",
              "      reader.readAsArrayBuffer(file);\n",
              "    });\n",
              "    // Wait for the data to be ready.\n",
              "    let fileData = yield {\n",
              "      promise: fileDataPromise,\n",
              "      response: {\n",
              "        action: 'continue',\n",
              "      }\n",
              "    };\n",
              "\n",
              "    // Use a chunked sending to avoid message size limits. See b/62115660.\n",
              "    let position = 0;\n",
              "    do {\n",
              "      const length = Math.min(fileData.byteLength - position, MAX_PAYLOAD_SIZE);\n",
              "      const chunk = new Uint8Array(fileData, position, length);\n",
              "      position += length;\n",
              "\n",
              "      const base64 = btoa(String.fromCharCode.apply(null, chunk));\n",
              "      yield {\n",
              "        response: {\n",
              "          action: 'append',\n",
              "          file: file.name,\n",
              "          data: base64,\n",
              "        },\n",
              "      };\n",
              "\n",
              "      let percentDone = fileData.byteLength === 0 ?\n",
              "          100 :\n",
              "          Math.round((position / fileData.byteLength) * 100);\n",
              "      percent.textContent = `${percentDone}% done`;\n",
              "\n",
              "    } while (position < fileData.byteLength);\n",
              "  }\n",
              "\n",
              "  // All done.\n",
              "  yield {\n",
              "    response: {\n",
              "      action: 'complete',\n",
              "    }\n",
              "  };\n",
              "}\n",
              "\n",
              "scope.google = scope.google || {};\n",
              "scope.google.colab = scope.google.colab || {};\n",
              "scope.google.colab._files = {\n",
              "  _uploadFiles,\n",
              "  _uploadFilesContinue,\n",
              "};\n",
              "})(self);\n",
              "</script> "
            ]
          },
          "metadata": {}
        },
        {
          "output_type": "stream",
          "name": "stdout",
          "text": [
            "Saving fp_model.h5 to fp_model (3).h5\n"
          ]
        }
      ]
    },
    {
      "cell_type": "code",
      "source": [
        "probability_model = tf.keras.Sequential([loaded_model, tf.keras.layers.Softmax()])\n",
        "\n",
        "y_train_pred = probability_model.predict(X_train_sequence)\n",
        "y_train_pred = [np.argmax(i) for i in y_train_pred]\n",
        "\n",
        "y_test_pred = probability_model.predict(X_test_sequence)\n",
        "y_test_pred =  [np.argmax(i) for i in y_test_pred]\n",
        "\n",
        "trainAcc = np.sum(y_train_pred == y_train_sequence) * 100 / len(y_train_sequence)\n",
        "testAcc = np.sum(y_test_pred == y_test_sequence) * 100 / len(y_test_sequence)\n",
        "\n",
        "print(\"Train Accuracy: {:.1f}%, Test Accuracy: {:.1f}%\".format(trainAcc, testAcc))"
      ],
      "metadata": {
        "colab": {
          "base_uri": "https://localhost:8080/"
        },
        "id": "F7hy-REhSOF7",
        "outputId": "48a1d377-2ec9-4089-8eb7-8035231bb37e"
      },
      "execution_count": 106,
      "outputs": [
        {
          "output_type": "stream",
          "name": "stdout",
          "text": [
            "40/40 [==============================] - 0s 2ms/step\n",
            "10/10 [==============================] - 0s 2ms/step\n",
            "Train Accuracy: 98.4%, Test Accuracy: 93.7%\n"
          ]
        }
      ]
    },
    {
      "cell_type": "markdown",
      "source": [
        "Perfect!"
      ],
      "metadata": {
        "id": "dat7TH-1VUkd"
      }
    }
  ]
}